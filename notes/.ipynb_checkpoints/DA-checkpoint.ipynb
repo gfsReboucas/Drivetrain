{
 "cells": [
  {
   "cell_type": "code",
   "execution_count": 1,
   "metadata": {},
   "outputs": [],
   "source": [
    "from sympy import *\n",
    "from sympy.solvers.solveset import linear_coeffs\n",
    "import sympy.physics.mechanics as me\n",
    "import numpy as np\n",
    "\n",
    "init_printing()\n",
    "\n",
    "def symb(x, y, z = ''):\n",
    "    return symbols('{0}_{1}{2}'.format(x, y, z), type = float)\n",
    "\n",
    "def apply2Eq(fun, eq):\n",
    "    return Eq(fun(eq.lhs), fun(eq.rhs))\n"
   ]
  },
  {
   "cell_type": "code",
   "execution_count": 2,
   "metadata": {},
   "outputs": [],
   "source": [
    "y, x, m_n, = symbols('y x m_n')\n",
    "tau, omega_0, t = symbols('tau omega_0, t')\n",
    "omega, Omega = symbols('omega Omega')\n",
    "zeta, d, k, m = symbols('zeta d k m')\n",
    "p, P, F = symbols('p P F')\n",
    "Sigma, sigma = symbols('Sigma sigma')\n",
    "B, b, f = symbols('B b f')\n",
    "rho, V = symbols('rho V')"
   ]
  },
  {
   "cell_type": "code",
   "execution_count": 3,
   "metadata": {},
   "outputs": [
    {
     "data": {
      "image/png": "[encoded data removed]",
      "text/latex": [
       "$\\displaystyle y = \\frac{x}{m_{n}}$"
      ],
      "text/plain": [
       "    x \n",
       "y = ──\n",
       "    mₙ"
      ]
     },
     "metadata": {},
     "output_type": "display_data"
    },
    {
     "data": {
      "image/png": "[encoded data removed]",
      "text/latex": [
       "$\\displaystyle \\tau^{2} = \\frac{k t^{2}}{b m_{n}^{2} \\rho}$"
      ],
      "text/plain": [
       "          2 \n",
       " 2     k⋅t  \n",
       "τ  = ───────\n",
       "         2  \n",
       "     b⋅mₙ ⋅ρ"
      ]
     },
     "metadata": {},
     "output_type": "display_data"
    },
    {
     "data": {
      "image/png": "[encoded data removed]",
      "text/latex": [
       "$\\displaystyle f = \\frac{F}{k m_{n}}$"
      ],
      "text/plain": [
       "     F  \n",
       "f = ────\n",
       "    k⋅mₙ"
      ]
     },
     "metadata": {},
     "output_type": "display_data"
    },
    {
     "data": {
      "image/png": "[encoded data removed]",
      "text/latex": [
       "$\\displaystyle \\omega^{2} = \\frac{\\Omega^{2} b m_{n}^{2} \\rho}{k}$"
      ],
      "text/plain": [
       "      2     2  \n",
       " 2   Ω ⋅b⋅mₙ ⋅ρ\n",
       "ω  = ──────────\n",
       "         k     "
      ]
     },
     "metadata": {},
     "output_type": "display_data"
    },
    {
     "data": {
      "image/png": "[encoded data removed]",
      "text/latex": [
       "$\\displaystyle 4 \\zeta^{2} = \\frac{d^{2}}{b k m_{n}^{2} \\rho}$"
      ],
      "text/plain": [
       "            2   \n",
       "   2       d    \n",
       "4⋅ζ  = ─────────\n",
       "             2  \n",
       "       b⋅k⋅mₙ ⋅ρ"
      ]
     },
     "metadata": {},
     "output_type": "display_data"
    },
    {
     "data": {
      "image/png": "[encoded data removed]",
      "text/latex": [
       "$\\displaystyle p = \\frac{P}{F \\Omega m_{n}}$"
      ],
      "text/plain": [
       "      P   \n",
       "p = ──────\n",
       "    F⋅Ω⋅mₙ"
      ]
     },
     "metadata": {},
     "output_type": "display_data"
    },
    {
     "data": {
      "image/png": "[encoded data removed]",
      "text/latex": [
       "$\\displaystyle \\Sigma = \\frac{m_{n}^{2} \\sigma}{F}$"
      ],
      "text/plain": [
       "      2  \n",
       "    mₙ ⋅σ\n",
       "Σ = ─────\n",
       "      F  "
      ]
     },
     "metadata": {},
     "output_type": "display_data"
    },
    {
     "data": {
      "image/png": "[encoded data removed]",
      "text/latex": [
       "$\\displaystyle B = \\frac{b}{m_{n}}$"
      ],
      "text/plain": [
       "    b \n",
       "B = ──\n",
       "    mₙ"
      ]
     },
     "metadata": {},
     "output_type": "display_data"
    },
    {
     "data": {
      "image/png": "[encoded data removed]",
      "text/latex": [
       "$\\displaystyle \\Sigma = \\frac{\\Omega m_{n}^{3} \\sigma}{P}$"
      ],
      "text/plain": [
       "        3  \n",
       "    Ω⋅mₙ ⋅σ\n",
       "Σ = ───────\n",
       "       P   "
      ]
     },
     "metadata": {},
     "output_type": "display_data"
    }
   ],
   "source": [
    "pi1 = Eq(y, x/m_n)\n",
    "pi2 = Eq(tau**2, (omega_0*t)**2)\n",
    "pi2 = pi2.subs(omega_0**2, k/m)\n",
    "pi2 = pi2.subs(m, rho*V)\n",
    "pi2 = pi2.subs(V, b*m_n**2)\n",
    "pi3 = Eq(f, F/(k*m_n))\n",
    "pi4 = Eq(omega**2, Omega**2/omega_0**2)\n",
    "pi4 = pi4.subs(omega_0**2, k/m)\n",
    "pi4 = pi4.subs(m, rho*V)\n",
    "pi4 = pi4.subs(V, b*m_n**2)\n",
    "pi5 = Eq(4*zeta**2, d**2/(m*k))\n",
    "pi5 = pi5.subs(m, rho*V)\n",
    "pi5 = pi5.subs(V, b*m_n**2)\n",
    "pi6 = Eq(p, P/(F*m_n*Omega))\n",
    "pi7 = Eq(Sigma, (sigma*m_n**2)/F)\n",
    "pi71 = Eq(Sigma, (sigma*Omega*m_n**3)/P)\n",
    "pi8 = Eq(B, b/m_n)\n",
    "\n",
    "display(pi1, pi2, pi3, pi4, pi5, pi6, pi7, pi8, pi71)"
   ]
  },
  {
   "cell_type": "code",
   "execution_count": 4,
   "metadata": {},
   "outputs": [],
   "source": [
    "PI = [pi1, pi2, pi3, pi4, pi5, pi6, pi71, pi8] #, pi71]\n",
    "PIrhs = list(map(lambda x: x.rhs, PI))\n",
    "#list(map(, PIrhs))\n",
    "#display(PIrhs[:2])"
   ]
  },
  {
   "cell_type": "code",
   "execution_count": 5,
   "metadata": {},
   "outputs": [
    {
     "data": {
      "image/png": "[encoded data removed]",
      "text/latex": [
       "$\\displaystyle \\log{\\left(y \\right)} = - \\log{\\left(m_{n} \\right)} + \\log{\\left(x \\right)}$"
      ],
      "text/plain": [
       "log(y) = -log(mₙ) + log(x)"
      ]
     },
     "metadata": {},
     "output_type": "display_data"
    },
    {
     "data": {
      "image/png": "[encoded data removed]",
      "text/latex": [
       "$\\displaystyle 2 \\log{\\left(\\tau \\right)} = - \\log{\\left(b \\right)} + \\log{\\left(k \\right)} - 2 \\log{\\left(m_{n} \\right)}$"
      ],
      "text/plain": [
       "2⋅log(τ) = -log(b) + log(k) - 2⋅log(mₙ)"
      ]
     },
     "metadata": {},
     "output_type": "display_data"
    },
    {
     "data": {
      "image/png": "[encoded data removed]",
      "text/latex": [
       "$\\displaystyle \\log{\\left(f \\right)} = \\log{\\left(F \\right)} - \\log{\\left(k \\right)} - \\log{\\left(m_{n} \\right)}$"
      ],
      "text/plain": [
       "log(f) = log(F) - log(k) - log(mₙ)"
      ]
     },
     "metadata": {},
     "output_type": "display_data"
    },
    {
     "data": {
      "image/png": "[encoded data removed]",
      "text/latex": [
       "$\\displaystyle 2 \\log{\\left(\\omega \\right)} = 2 \\log{\\left(\\Omega \\right)} + \\log{\\left(b \\right)} - \\log{\\left(k \\right)} + 2 \\log{\\left(m_{n} \\right)}$"
      ],
      "text/plain": [
       "2⋅log(ω) = 2⋅log(Ω) + log(b) - log(k) + 2⋅log(mₙ)"
      ]
     },
     "metadata": {},
     "output_type": "display_data"
    },
    {
     "data": {
      "image/png": "[encoded data removed]",
      "text/latex": [
       "$\\displaystyle 2 \\log{\\left(\\zeta \\right)} = - \\log{\\left(b \\right)} + 2 \\log{\\left(d \\right)} - \\log{\\left(k \\right)} - 2 \\log{\\left(m_{n} \\right)}$"
      ],
      "text/plain": [
       "2⋅log(ζ) = -log(b) + 2⋅log(d) - log(k) - 2⋅log(mₙ)"
      ]
     },
     "metadata": {},
     "output_type": "display_data"
    },
    {
     "data": {
      "image/png": "[encoded data removed]",
      "text/latex": [
       "$\\displaystyle \\log{\\left(p \\right)} = - \\log{\\left(F \\right)} - \\log{\\left(\\Omega \\right)} + \\log{\\left(P \\right)} - \\log{\\left(m_{n} \\right)}$"
      ],
      "text/plain": [
       "log(p) = -log(F) - log(Ω) + log(P) - log(mₙ)"
      ]
     },
     "metadata": {},
     "output_type": "display_data"
    },
    {
     "data": {
      "image/png": "[encoded data removed]",
      "text/latex": [
       "$\\displaystyle \\log{\\left(\\Sigma \\right)} = \\log{\\left(\\Omega \\right)} - \\log{\\left(P \\right)} + 3 \\log{\\left(m_{n} \\right)}$"
      ],
      "text/plain": [
       "log(Σ) = log(Ω) - log(P) + 3⋅log(mₙ)"
      ]
     },
     "metadata": {},
     "output_type": "display_data"
    },
    {
     "data": {
      "image/png": "[encoded data removed]",
      "text/latex": [
       "$\\displaystyle \\log{\\left(B \\right)} = \\log{\\left(b \\right)} - \\log{\\left(m_{n} \\right)}$"
      ],
      "text/plain": [
       "log(B) = log(b) - log(mₙ)"
      ]
     },
     "metadata": {},
     "output_type": "display_data"
    }
   ],
   "source": [
    "log_simp = lambda x: expand_log(log(x), force = True)\n",
    "\n",
    "PI = [pi1, pi2, pi3, pi4, pi5, pi6, pi71, pi8] #, pi71]\n",
    "PI = list(map(lambda x: apply2Eq(log_simp,x), PI))\n",
    "PI = list(map(lambda x: x.subs([(t, 1), # no way to scale time\n",
    "                                (rho, 1), # same material\n",
    "                                (log(2), 0), # get rid of this\n",
    "                                (sigma, 1)]), # keep structural safety\n",
    "                          #      (m_n, b)]), # no distortion for gears\n",
    "                PI))\n",
    "\n",
    "for q in PI:\n",
    "    display(q)"
   ]
  },
  {
   "cell_type": "code",
   "execution_count": 6,
   "metadata": {},
   "outputs": [],
   "source": [
    "#rel1 = Eq(log(m_n), log(b))\n",
    "#rel2 = Eq(log(x), log(b))\n",
    "#rel3 = Eq(log(F), 4*log(b))\n",
    "#PI2 = list(map(lambda x: x.subs([(rel1.lhs, rel1.rhs), (rel2.lhs, rel2.rhs)]),PI))\n",
    "#for q in PI2:\n",
    "#    display(q)\n",
    "def coeff_matrix(equations, *symbols):\n",
    "    # adapted from the source code of sympy.linear_eq_to_matrix(equations, *symbols)\n",
    "    A , b = [], []\n",
    "    for i, f in enumerate(equations):\n",
    "        coeff_list = linear_coeffs(f, *symbols)\n",
    "        b.append(-coeff_list.pop())\n",
    "        A.append(coeff_list)\n",
    "\n",
    "    A, b = map(Matrix, (A, b))\n",
    "\n",
    "    return A, b"
   ]
  },
  {
   "cell_type": "code",
   "execution_count": 11,
   "metadata": {},
   "outputs": [
    {
     "data": {
      "image/png": "[encoded data removed]",
      "text/latex": [
       "$\\displaystyle \\left[\\begin{array}{cccccccccccccccc}0 & 0 & 0 & 0 & 0 & -1 & 0 & 0 & 0 & 0 & 0 & -1 & 0 & 0 & 0 & 1\\\\0 & 0 & 0 & 0 & 0 & 0 & -2 & 0 & 0 & 0 & 0 & -2 & -1 & 1 & 0 & 0\\\\0 & 0 & 1 & 0 & 0 & 0 & 0 & -1 & 0 & 0 & 0 & -1 & 0 & -1 & 0 & 0\\\\0 & 2 & 0 & 0 & 0 & 0 & 0 & 0 & -2 & 0 & 0 & 2 & 1 & -1 & 0 & 0\\\\0 & 0 & 0 & 0 & -2 & 0 & 0 & 0 & 0 & 0 & 0 & -2 & -1 & -1 & 2 & 0\\\\1 & -1 & -1 & 0 & 0 & 0 & 0 & 0 & 0 & 0 & -1 & -1 & 0 & 0 & 0 & 0\\\\-1 & 1 & 0 & 0 & 0 & 0 & 0 & 0 & 0 & -1 & 0 & 3 & 0 & 0 & 0 & 0\\\\0 & 0 & 0 & -1 & 0 & 0 & 0 & 0 & 0 & 0 & 0 & -1 & 1 & 0 & 0 & 0\\end{array}\\right]$"
      ],
      "text/plain": [
       "⎡0   0   0   0   0   -1  0   0   0   0   0   -1  0   0   0  1⎤\n",
       "⎢                                                            ⎥\n",
       "⎢0   0   0   0   0   0   -2  0   0   0   0   -2  -1  1   0  0⎥\n",
       "⎢                                                            ⎥\n",
       "⎢0   0   1   0   0   0   0   -1  0   0   0   -1  0   -1  0  0⎥\n",
       "⎢                                                            ⎥\n",
       "⎢0   2   0   0   0   0   0   0   -2  0   0   2   1   -1  0  0⎥\n",
       "⎢                                                            ⎥\n",
       "⎢0   0   0   0   -2  0   0   0   0   0   0   -2  -1  -1  2  0⎥\n",
       "⎢                                                            ⎥\n",
       "⎢1   -1  -1  0   0   0   0   0   0   0   -1  -1  0   0   0  0⎥\n",
       "⎢                                                            ⎥\n",
       "⎢-1  1   0   0   0   0   0   0   0   -1  0   3   0   0   0  0⎥\n",
       "⎢                                                            ⎥\n",
       "⎣0   0   0   -1  0   0   0   0   0   0   0   -1  1   0   0  0⎦"
      ]
     },
     "metadata": {},
     "output_type": "display_data"
    },
    {
     "data": {
      "image/png": "[encoded data removed]",
      "text/latex": [
       "$\\displaystyle \\left[\\begin{matrix}0\\\\0\\\\0\\\\0\\\\0\\\\0\\\\0\\\\0\\end{matrix}\\right]$"
      ],
      "text/plain": [
       "⎡0⎤\n",
       "⎢ ⎥\n",
       "⎢0⎥\n",
       "⎢ ⎥\n",
       "⎢0⎥\n",
       "⎢ ⎥\n",
       "⎢0⎥\n",
       "⎢ ⎥\n",
       "⎢0⎥\n",
       "⎢ ⎥\n",
       "⎢0⎥\n",
       "⎢ ⎥\n",
       "⎢0⎥\n",
       "⎢ ⎥\n",
       "⎣0⎦"
      ]
     },
     "metadata": {},
     "output_type": "display_data"
    },
    {
     "data": {
      "image/png": "[encoded data removed]",
      "text/latex": [
       "$\\displaystyle - m_{n} + x - \\log{\\left(y \\right)}$"
      ],
      "text/plain": [
       "-mₙ + x - log(y)"
      ]
     },
     "metadata": {},
     "output_type": "display_data"
    },
    {
     "data": {
      "image/png": "[encoded data removed]",
      "text/latex": [
       "$\\displaystyle - b + k - 2 m_{n} - 2 \\log{\\left(\\tau \\right)}$"
      ],
      "text/plain": [
       "-b + k - 2⋅mₙ - 2⋅log(τ)"
      ]
     },
     "metadata": {},
     "output_type": "display_data"
    },
    {
     "data": {
      "image/png": "[encoded data removed]",
      "text/latex": [
       "$\\displaystyle - k - m_{n} + \\log{\\left(F \\right)} - \\log{\\left(f \\right)}$"
      ],
      "text/plain": [
       "-k - mₙ + log(F) - log(f)"
      ]
     },
     "metadata": {},
     "output_type": "display_data"
    },
    {
     "data": {
      "image/png": "[encoded data removed]",
      "text/latex": [
       "$\\displaystyle b - k + 2 m_{n} + 2 \\log{\\left(\\Omega \\right)} - 2 \\log{\\left(\\omega \\right)}$"
      ],
      "text/plain": [
       "b - k + 2⋅mₙ + 2⋅log(Ω) - 2⋅log(ω)"
      ]
     },
     "metadata": {},
     "output_type": "display_data"
    },
    {
     "data": {
      "image/png": "[encoded data removed]",
      "text/latex": [
       "$\\displaystyle - b + 2 d - k - 2 m_{n} - 2 \\log{\\left(\\zeta \\right)}$"
      ],
      "text/plain": [
       "-b + 2⋅d - k - 2⋅mₙ - 2⋅log(ζ)"
      ]
     },
     "metadata": {},
     "output_type": "display_data"
    },
    {
     "data": {
      "image/png": "[encoded data removed]",
      "text/latex": [
       "$\\displaystyle - m_{n} - \\log{\\left(F \\right)} - \\log{\\left(\\Omega \\right)} + \\log{\\left(P \\right)} - \\log{\\left(p \\right)}$"
      ],
      "text/plain": [
       "-mₙ - log(F) - log(Ω) + log(P) - log(p)"
      ]
     },
     "metadata": {},
     "output_type": "display_data"
    },
    {
     "data": {
      "image/png": "[encoded data removed]",
      "text/latex": [
       "$\\displaystyle 3 m_{n} + \\log{\\left(\\Omega \\right)} - \\log{\\left(P \\right)} - \\log{\\left(\\Sigma \\right)}$"
      ],
      "text/plain": [
       "3⋅mₙ + log(Ω) - log(P) - log(Σ)"
      ]
     },
     "metadata": {},
     "output_type": "display_data"
    },
    {
     "data": {
      "image/png": "[encoded data removed]",
      "text/latex": [
       "$\\displaystyle b - m_{n} - \\log{\\left(B \\right)}$"
      ],
      "text/plain": [
       "b - mₙ - log(B)"
      ]
     },
     "metadata": {},
     "output_type": "display_data"
    }
   ],
   "source": [
    "PI3 = PI\n",
    "#del PI3[0]\n",
    "#del PI3[6]\n",
    "vv = [m_n, b, k, d, x]\n",
    "#vv = list(map(lambda x: (log(x), x),vv))\n",
    "\n",
    "for v in vv:\n",
    "    PI3 = list(map(lambda x: x.subs(log(v), v), PI3))\n",
    "PI4 = list(map(lambda x: x.rhs - x.lhs, PI3))\n",
    "\n",
    "A, bb = coeff_matrix(PI4, log(P),\n",
    "                                  log(Omega),\n",
    "                                  log(F),\n",
    "                                  log(B),\n",
    "                                  log(zeta),\n",
    "                                  log(y),\n",
    "                                  log(tau),\n",
    "                                  log(f),\n",
    "                                  log(omega),\n",
    "                                  log(Sigma),\n",
    "                                  log(p),\n",
    "                                  m_n,\n",
    "                                  b,\n",
    "                                  k,\n",
    "                                  d,\n",
    "                                  x)\n",
    "\n",
    "display(A, bb)\n",
    "for q in PI4:\n",
    "    display(q)\n",
    "\n",
    "#list(map(lambda x: x.subs(),PI3))"
   ]
  },
  {
   "cell_type": "code",
   "execution_count": 9,
   "metadata": {
    "scrolled": true
   },
   "outputs": [
    {
     "data": {
      "image/png": "[encoded data removed]",
      "text/latex": [
       "$\\displaystyle \\left[ \\log{\\left(y \\right)} = - m_{n} + x, \\  2 \\log{\\left(\\tau \\right)} = - b + k - 2 m_{n}, \\  \\log{\\left(f \\right)} = - k - m_{n} + \\log{\\left(F \\right)}, \\  2 \\log{\\left(\\omega \\right)} = b - k + 2 m_{n} + 2 \\log{\\left(\\Omega \\right)}\\right]$"
      ],
      "text/plain": [
       "[log(y) = -mₙ + x, 2⋅log(τ) = -b + k - 2⋅mₙ, log(f) = -k - mₙ + log(F), 2⋅log(\n",
       "ω) = b - k + 2⋅mₙ + 2⋅log(Ω)]"
      ]
     },
     "metadata": {},
     "output_type": "display_data"
    }
   ],
   "source": [
    "PI02 = Eq(PI3[0].lhs + PI3[1].lhs, PI3[0].rhs + PI3[1].rhs)\n",
    "display(PI3[:4])"
   ]
  },
  {
   "cell_type": "code",
   "execution_count": 12,
   "metadata": {},
   "outputs": [
    {
     "data": {
      "text/plain": [
       "sympy.matrices.dense.MutableDenseMatrix"
      ]
     },
     "execution_count": 12,
     "metadata": {},
     "output_type": "execute_result"
    }
   ],
   "source": [
    "type(A)"
   ]
  },
  {
   "cell_type": "code",
   "execution_count": 14,
   "metadata": {},
   "outputs": [
    {
     "name": "stderr",
     "output_type": "stream",
     "text": [
      "[NbConvertApp] Converting notebook DA.ipynb to script\n",
      "[NbConvertApp] Writing 3626 bytes to DA.py\n"
     ]
    }
   ],
   "source": [
    "!jupyter nbconvert --to script DA.ipynb"
   ]
  },
  {
   "cell_type": "code",
   "execution_count": 17,
   "metadata": {},
   "outputs": [
    {
     "data": {
      "text/plain": [
       "'[0 0 0 0 0 -1 0 0 0 0 0 -1 0 0 0 1; 0 0 0 0 0 0 -2 0 0 0 0 -2 -1 1 0 0; 0 0 1 0 0 0 0 -1 0 0 0 -1 0 -1 0 0; 0 2 0 0 0 0 0 0 -2 0 0 2 1 -1 0 0; 0 0 0 0 -2 0 0 0 0 0 0 -2 -1 -1 2 0; 1 -1 -1 0 0 0 0 0 0 0 -1 -1 0 0 0 0; -1 1 0 0 0 0 0 0 0 -1 0 3 0 0 0 0; 0 0 0 -1 0 0 0 0 0 0 0 -1 1 0 0 0]'"
      ]
     },
     "execution_count": 17,
     "metadata": {},
     "output_type": "execute_result"
    }
   ],
   "source": [
    "printing.octave.octave_code(A)"
   ]
  },
  {
   "cell_type": "code",
   "execution_count": null,
   "metadata": {},
   "outputs": [],
   "source": []
  }
 ],
 "metadata": {
  "kernelspec": {
   "display_name": "Python 3",
   "language": "python",
   "name": "python3"
  },
  "language_info": {
   "codemirror_mode": {
    "name": "ipython",
    "version": 3
   },
   "file_extension": ".py",
   "mimetype": "text/x-python",
   "name": "python",
   "nbconvert_exporter": "python",
   "pygments_lexer": "ipython3",
   "version": "3.8.3"
  }
 },
 "nbformat": 4,
 "nbformat_minor": 4
}
