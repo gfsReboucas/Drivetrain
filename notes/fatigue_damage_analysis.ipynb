{
 "metadata": {
  "language_info": {
   "codemirror_mode": {
    "name": "ipython",
    "version": 3
   },
   "file_extension": ".py",
   "mimetype": "text/x-python",
   "name": "python",
   "nbconvert_exporter": "python",
   "pygments_lexer": "ipython3",
   "version": "3.7.6-final"
  },
  "orig_nbformat": 2,
  "kernelspec": {
   "name": "python3",
   "display_name": "Python 3"
  }
 },
 "nbformat": 4,
 "nbformat_minor": 2,
 "cells": [
  {
   "source": [
    "# Notions of fatigue damage"
   ],
   "cell_type": "markdown",
   "metadata": {}
  },
  {
   "cell_type": "code",
   "execution_count": 1,
   "metadata": {},
   "outputs": [],
   "source": [
    "from sympy import *\n",
    "\n",
    "#init_printing()"
   ]
  },
  {
   "cell_type": "code",
   "execution_count": 2,
   "metadata": {},
   "outputs": [
    {
     "output_type": "display_data",
     "data": {
      "text/plain": "Eq(N*S**m, K)",
      "text/latex": "$\\displaystyle N S^{m} = K$"
     },
     "metadata": {}
    }
   ],
   "source": [
    "N = symbols('N')\n",
    "S = symbols('S')\n",
    "m = symbols('m')\n",
    "K = symbols('K')\n",
    "\n",
    "eqSN = Eq(N*S**m, K)\n",
    "display(eqSN)"
   ]
  },
  {
   "source": [
    "where:\n",
    "- $m$ and $K$ are material constants.\n",
    "- $S$ is the stress range.\n",
    "- $N$ is the number of stress cycles to failure.\n",
    "\n",
    "## Fatigue damage\n",
    "Consider a structure under general loading of duration $T$ and different amplitudes. The accumulated fatigue damage $\\tilde{D}(T)$ of this structure can be defined using the Palmgren-Miner's hypothesis in the following way:"
   ],
   "cell_type": "markdown",
   "metadata": {}
  },
  {
   "cell_type": "code",
   "execution_count": 3,
   "metadata": {},
   "outputs": [
    {
     "output_type": "display_data",
     "data": {
      "text/plain": "Eq(\\tilde{D}(T), Sum(n[j]/N[j], (j, 1, \\bar{j})))",
      "text/latex": "$\\displaystyle \\tilde{D}{\\left(T \\right)} = \\sum_{Idx\\left(j\\right)=1}^{\\bar{j}} \\frac{{n}_{Idx\\left(j\\right)}}{{N}_{Idx\\left(j\\right)}}$"
     },
     "metadata": {}
    }
   ],
   "source": [
    "D_tilde = Function('\\\\tilde{D}')\n",
    "n_ = IndexedBase('n')\n",
    "N_ = IndexedBase('N')\n",
    "j = symbols('j', cls = Idx)\n",
    "j_bar = symbols('\\\\bar{j}')\n",
    "T = symbols('T')\n",
    "\n",
    "eqPM = Eq(D_tilde(T), Sum(n_[j]/N_[j], (j, 1, j_bar)))\n",
    "\n",
    "display(eqPM)"
   ]
  },
  {
   "source": [
    "where:\n",
    "- $\\Delta S_j$ is the stress bin with limits $S_j - \\Delta S/2$ and $S_j + \\Delta S/2$ and interval length $\\Delta S$.\n",
    "- $n_j$ is the number of stress cycles in the time history associated with stress bin $\\Delta S_j$.\n",
    "- $N_j = K (\\Delta S_j)^{-m}$ is the number of stress cycles to failure under stress bin $\\Delta S_j$.\n",
    "- $\\bar{j}$ is the number of bins.\n",
    "- $T$ is the duration of the load.\n",
    "\n",
    "Failure is assumed to occur when $\\tilde{D}(T) = 1$."
   ],
   "cell_type": "markdown",
   "metadata": {}
  },
  {
   "cell_type": "code",
   "execution_count": 9,
   "metadata": {},
   "outputs": [
    {
     "output_type": "display_data",
     "data": {
      "text/plain": "Eq(\\tilde{D}(T), Sum(\\Delta S[j]**m*n[j], (j, 1, \\bar{j}))/K)",
      "text/latex": "$\\displaystyle \\tilde{D}{\\left(T \\right)} = \\frac{\\sum_{Idx\\left(j\\right)=1}^{\\bar{j}} {\\Delta S}_{Idx\\left(j\\right)}^{m} {n}_{Idx\\left(j\\right)}}{K}$"
     },
     "metadata": {}
    }
   ],
   "source": [
    "DS_ = IndexedBase('\\\\Delta S')\n",
    "eqSNj = eqSN.subs([(N, N_[j]),\n",
    "                   (S, DS_[j])])\n",
    "eqNj = solve(eqSNj, N_[j])[0]\n",
    "eqPM = simplify(eqPM.replace(N_[j], eqNj))\n",
    "display(eqPM)"
   ]
  },
  {
   "cell_type": "code",
   "execution_count": 5,
   "metadata": {},
   "outputs": [
    {
     "output_type": "display_data",
     "data": {
      "text/plain": "N[j]",
      "text/latex": "$\\displaystyle {N}_{Idx\\left(j\\right)}$"
     },
     "metadata": {}
    },
    {
     "output_type": "display_data",
     "data": {
      "text/plain": "K*\\Delta S[j]**(-m)",
      "text/latex": "$\\displaystyle K {\\Delta S}_{Idx\\left(j\\right)}^{- m}$"
     },
     "metadata": {}
    }
   ],
   "source": []
  }
 ]
}