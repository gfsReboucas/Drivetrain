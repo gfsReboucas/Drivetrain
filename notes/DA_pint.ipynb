{
 "cells": [
  {
   "cell_type": "code",
   "execution_count": 1,
   "metadata": {},
   "outputs": [],
   "source": [
    "from pint import *\n",
    "from sympy import *\n",
    "from sympy.solvers.solveset import linear_coeffs\n",
    "import sympy.physics.mechanics as me\n",
    "import numpy as np\n",
    "\n",
    "init_printing()\n",
    "\n",
    "def symb(x, y, z = ''):\n",
    "    return symbols('{0}_{1}{2}'.format(x, y, z), type = float)\n",
    "\n",
    "def apply2Eq(fun, eq):\n",
    "    return Eq(fun(eq.lhs), fun(eq.rhs))\n"
   ]
  },
  {
   "cell_type": "code",
   "execution_count": 9,
   "metadata": {},
   "outputs": [
    {
     "output_type": "display_data",
     "data": {
      "text/plain": "'k * t ** 2 / m_n ** 3 / rho'"
     },
     "metadata": {}
    },
    {
     "output_type": "display_data",
     "data": {
      "text/plain": "'Omega ** 2 * m_n ** 3 * rho / k'"
     },
     "metadata": {}
    },
    {
     "output_type": "display_data",
     "data": {
      "text/plain": "'k * m_n ** 3 * rho / c ** 2'"
     },
     "metadata": {}
    },
    {
     "output_type": "display_data",
     "data": {
      "text/plain": "'k * m_n / f'"
     },
     "metadata": {}
    },
    {
     "output_type": "display_data",
     "data": {
      "text/plain": "'P ** 2 * rho / k ** 3 / m_n'"
     },
     "metadata": {}
    },
    {
     "output_type": "display_data",
     "data": {
      "text/plain": "'m_n * sigma / k'"
     },
     "metadata": {}
    },
    {
     "output_type": "display_data",
     "data": {
      "text/plain": "'b / m_n'"
     },
     "metadata": {}
    },
    {
     "output_type": "display_data",
     "data": {
      "text/plain": "'x / m_n'"
     },
     "metadata": {}
    }
   ],
   "source": [
    "result = pi_theorem({'rho'  : '[mass]/[length]**3',\n",
    "                     'k'    : '[mass]/[time]**2',\n",
    "                     'm_n'  : '[length]',\n",
    "                     't'    : '[time]',\n",
    "                     'Omega': '1/[time]',\n",
    "                     'c'    : '[mass]/[time]',\n",
    "                     'f'    : '[mass]*[length]/[time]**2',\n",
    "                     'P'    : '[mass]*[length]**2/[time]**3',\n",
    "                     'sigma': '[mass]/([length]*[time]**2)',\n",
    "                     'b'    : '[length]',\n",
    "                     'x'    : '[length]'})\n",
    "\n",
    "for i in range(len(result)):\n",
    "    display(formatter(result[i].items()))\n",
    "\n",
    "\n",
    "#display(result)"
   ]
  },
  {
   "source": [
    "First, define variables:"
   ],
   "cell_type": "markdown",
   "metadata": {}
  },
  {
   "cell_type": "code",
   "execution_count": 39,
   "metadata": {},
   "outputs": [],
   "source": [
    "X       = IndexedBase('X') # [-], non-dimensional displacement\n",
    "B       = IndexedBase('B') # [-], non-dimensional face width\n",
    "tau     = IndexedBase('tau') # [-], non-dimensional time\n",
    "zeta    = IndexedBase('zeta') # [-], damping ratio\n",
    "Sigma   = IndexedBase('Sigma') # [-], non-dimensional stress\n",
    "F       = IndexedBase('F') # [-], non-dimensional force\n",
    "mu      = IndexedBase('mu') # [-], non-dimensional force from stress\n",
    "omega   = IndexedBase('omega') # [-], non-dimensional rotation speed\n",
    "P       = IndexedBase('P') # [kW], power\n",
    "Omega   = IndexedBase('Omega') # [RPM], rotation speed\n",
    "sigma   = IndexedBase('sigma') # [Pa], stress\n",
    "f       = IndexedBase('f') # [N], force\n",
    "x       = IndexedBase('x') # [mm], displacement\n",
    "m_n     = IndexedBase('m_n') # [mm], normal module\n",
    "b       = IndexedBase('b') # [mm], dimensional face width\n",
    "t       = IndexedBase('t') # [s], time\n",
    "omega_0 = IndexedBase('omega_0') # [rad/s], normalizing frequency\n",
    "c       = IndexedBase('c') # [N/m/s], damping\n",
    "k       = IndexedBase('k') # [N/m], stiffness\n",
    "m       = IndexedBase('m') # [kg], mass\n",
    "rho     = IndexedBase('rho') # [kg/m**3], density\n",
    "V       = IndexedBase('V') # [m**3], volume"
   ]
  },
  {
   "source": [
    "Given the following equations:\n",
    "$$\n",
    "m \\ddot{x} + c \\dot{x} + k x = f(t) \\\\\n",
    "\\sigma_F = C_F \\frac{P}{\\Omega b d_1 m_n}\n",
    "$$\n",
    "The nondimensional groups are given by:"
   ],
   "cell_type": "markdown",
   "metadata": {}
  },
  {
   "cell_type": "code",
   "execution_count": 40,
   "metadata": {},
   "outputs": [
    {
     "output_type": "display_data",
     "data": {
      "text/plain": "⎡                                                                             \n⎢                                                                             \n⎢                                                                             \n⎢                                2                                  2         \n⎢     x        b      2       k⋅t             f          2         c          \n⎢X = ───, B = ───, tau  = ────────────, F = ─────, 4⋅zeta  = ──────────────, S\n⎢    m_n      m_n                2          k⋅m_n                     2       \n⎢                         π⋅b⋅m_n ⋅rho                       π⋅b⋅k⋅m_n ⋅rho   \n⎢                                                                             \n⎢                                                                             \n⎣                                                                             \n\n            ____________                                                      \n           ╱     k            2                                               \n          ╱  ────────── ⋅b⋅m_n ⋅sigma                                         \n         ╱        2                            2                              \n       ╲╱    b⋅m_n ⋅rho                     m_n ⋅sigma               √π⋅Omega \nigma = ──────────────────────────────, mu = ──────────, omega = ──────────────\n                    √π⋅P                        f                    _________\n                                                                    ╱     k   \n                                                                   ╱  ────────\n                                                                  ╱        2  \n                                                                ╲╱    b⋅m_n ⋅r\n\n   ⎤\n   ⎥\n   ⎥\n   ⎥\n   ⎥\n───⎥\n___⎥\n   ⎥\n── ⎥\n   ⎥\nho ⎦",
      "image/png": "[encoded data removed]",
      "text/latex": "$\\displaystyle \\left[ X = \\frac{x}{m_{n}}, \\  B = \\frac{b}{m_{n}}, \\  \\tau^{2} = \\frac{k t^{2}}{\\pi b m_{n}^{2} \\rho}, \\  F = \\frac{f}{k m_{n}}, \\  4 \\zeta^{2} = \\frac{c^{2}}{\\pi b k m_{n}^{2} \\rho}, \\  \\Sigma = \\frac{\\sqrt{\\frac{k}{b m_{n}^{2} \\rho}} b m_{n}^{2} \\sigma}{\\sqrt{\\pi} P}, \\  \\mu = \\frac{m_{n}^{2} \\sigma}{f}, \\  \\omega = \\frac{\\sqrt{\\pi} \\Omega}{\\sqrt{\\frac{k}{b m_{n}^{2} \\rho}}}\\right]$"
     },
     "metadata": {}
    },
    {
     "output_type": "display_data",
     "data": {
      "text/plain": "               ____________\n              ╱     k      \n             ╱  ────────── \n            ╱        2     \n          ╲╱    b⋅m_n ⋅rho \nomega_0 = ─────────────────\n                  √π       ",
      "image/png": "[encoded data removed]",
      "text/latex": "$\\displaystyle \\omega_{0} = \\frac{\\sqrt{\\frac{k}{b m_{n}^{2} \\rho}}}{\\sqrt{\\pi}}$"
     },
     "metadata": {}
    }
   ],
   "source": [
    "om_rel = Eq(omega_0, sqrt(k/m))\n",
    "om_rel = om_rel.subs(m, rho*V)\n",
    "om_rel = om_rel.subs(V, pi*b*m_n**2)\n",
    "\n",
    "pi1 = Eq(X, x/m_n)\n",
    "\n",
    "pi2 = Eq(B, b/m_n)\n",
    "\n",
    "pi3 = Eq(tau**2, (omega_0*t)**2)\n",
    "pi3 = pi3.subs(om_rel.lhs, om_rel.rhs)\n",
    "\n",
    "pi4 = Eq(F, f/(k*m_n))\n",
    "\n",
    "pi5 = Eq(4*zeta**2, c**2/(m*k))\n",
    "pi5 = pi5.subs(m, rho*V)\n",
    "pi5 = pi5.subs(V, pi*b*m_n**2)\n",
    "\n",
    "pi6 = Eq(Sigma, (sigma*omega_0*b*m_n**2)/P)\n",
    "pi6 = pi6.subs(om_rel.lhs, om_rel.rhs)\n",
    "pi6 = simplify(pi6)\n",
    "\n",
    "pi7 = Eq(mu, (sigma*m_n**2)/f)\n",
    "\n",
    "pi8 = Eq(omega, Omega/omega_0)\n",
    "pi8 = pi8.subs(om_rel.lhs, om_rel.rhs)\n",
    "\n",
    "# pi6 = Eq(p, P/(F*m_n*Omega))\n",
    "\n",
    "PI = [pi1, pi2, pi3, pi4, pi5, pi6, pi7, pi8]\n",
    "\n",
    "display(PI, om_rel)"
   ]
  },
  {
   "source": [
    "Scaling factors:"
   ],
   "cell_type": "markdown",
   "metadata": {}
  },
  {
   "cell_type": "code",
   "execution_count": 41,
   "metadata": {},
   "outputs": [
    {
     "output_type": "display_data",
     "data": {
      "text/plain": "0 = -log(m_n) + log(x)",
      "image/png": "[encoded data removed]",
      "text/latex": "$\\displaystyle 0 = - \\log{\\left(m_{n} \\right)} + \\log{\\left(x \\right)}$"
     },
     "metadata": {}
    },
    {
     "output_type": "display_data",
     "data": {
      "text/plain": "0 = log(b) - log(m_n)",
      "image/png": "[encoded data removed]",
      "text/latex": "$\\displaystyle 0 = \\log{\\left(b \\right)} - \\log{\\left(m_{n} \\right)}$"
     },
     "metadata": {}
    },
    {
     "output_type": "display_data",
     "data": {
      "text/plain": "0 = -log(b) + log(k) - 2⋅log(m_n)",
      "image/png": "[encoded data removed]",
      "text/latex": "$\\displaystyle 0 = - \\log{\\left(b \\right)} + \\log{\\left(k \\right)} - 2 \\log{\\left(m_{n} \\right)}$"
     },
     "metadata": {}
    },
    {
     "output_type": "display_data",
     "data": {
      "text/plain": "log(F) = log(f) - log(k) - log(m_n)",
      "image/png": "[encoded data removed]",
      "text/latex": "$\\displaystyle \\log{\\left(F \\right)} = \\log{\\left(f \\right)} - \\log{\\left(k \\right)} - \\log{\\left(m_{n} \\right)}$"
     },
     "metadata": {}
    },
    {
     "output_type": "display_data",
     "data": {
      "text/plain": "2⋅log(zeta) = -log(b) - log(k) - 2⋅log(m_n)",
      "image/png": "[encoded data removed]",
      "text/latex": "$\\displaystyle 2 \\log{\\left(\\zeta \\right)} = - \\log{\\left(b \\right)} - \\log{\\left(k \\right)} - 2 \\log{\\left(m_{n} \\right)}$"
     },
     "metadata": {}
    },
    {
     "output_type": "display_data",
     "data": {
      "text/plain": "                       log(b)   log(k)           \nlog(Sigma) = -log(P) + ────── + ────── + log(m_n)\n                         2        2              ",
      "image/png": "[encoded data removed]",
      "text/latex": "$\\displaystyle \\log{\\left(\\Sigma \\right)} = - \\log{\\left(P \\right)} + \\frac{\\log{\\left(b \\right)}}{2} + \\frac{\\log{\\left(k \\right)}}{2} + \\log{\\left(m_{n} \\right)}$"
     },
     "metadata": {}
    },
    {
     "output_type": "display_data",
     "data": {
      "text/plain": "log(mu) = -log(f) + 2⋅log(m_n)",
      "image/png": "[encoded data removed]",
      "text/latex": "$\\displaystyle \\log{\\left(\\mu \\right)} = - \\log{\\left(f \\right)} + 2 \\log{\\left(m_{n} \\right)}$"
     },
     "metadata": {}
    },
    {
     "output_type": "display_data",
     "data": {
      "text/plain": "    log(b)   log(k)           \n0 = ────── - ────── + log(m_n)\n      2        2              ",
      "image/png": "[encoded data removed]",
      "text/latex": "$\\displaystyle 0 = \\frac{\\log{\\left(b \\right)}}{2} - \\frac{\\log{\\left(k \\right)}}{2} + \\log{\\left(m_{n} \\right)}$"
     },
     "metadata": {}
    }
   ],
   "source": [
    "log_simp = lambda x: expand_log(log(x), force = True)\n",
    "\n",
    "PI_log = list(map(lambda x: apply2Eq(log_simp,x), PI))\n",
    "\n",
    "log_PI = list(map(lambda x: x.subs([\n",
    "                                    (sigma  , 1),   # keep structural safety\n",
    "                                    (rho    , 1),   # same material\n",
    "                                    (X      , 1),   # keep non-dimensional displacement (get rid of X and x)\n",
    "                                    (t      , 1),   # same time scale\n",
    "                                    (tau    , 1),   # same time scale\n",
    "                                    (Omega  , 1),   # same frequency range\n",
    "                                    (omega  , 1),   # same frequency range\n",
    "                                    (c      , 1),   # keep damping level\n",
    "                                    (log(pi), 0),   # get rid of this\n",
    "                                    (log(2) , 0)]), # get rid of this\n",
    "                                                    PI_log))\n",
    "# same time scale:\n",
    "# (tau    , 1), \n",
    "\n",
    "for q in log_PI:\n",
    "    display(q)\n"
   ]
  },
  {
   "cell_type": "code",
   "execution_count": 42,
   "metadata": {},
   "outputs": [],
   "source": [
    "def coeff_matrix(equations, *symbols):\n",
    "    # adapted from the source code of sympy.linear_eq_to_matrix(equations, *symbols)\n",
    "    A , b = [], []\n",
    "    for i, f in enumerate(equations):\n",
    "        coeff_list = linear_coeffs(f, *symbols)\n",
    "        b.append(-coeff_list.pop())\n",
    "        A.append(coeff_list)\n",
    "\n",
    "    A, b = map(Matrix, (A, b))\n",
    "\n",
    "    return A, b"
   ]
  },
  {
   "cell_type": "code",
   "execution_count": 43,
   "metadata": {},
   "outputs": [
    {
     "output_type": "display_data",
     "data": {
      "text/plain": "⎡0  0  0  0  0  1    -1    0    0 ⎤\n⎢                                 ⎥\n⎢0  0  0  0  0  2    1     -1   0 ⎥\n⎢                                 ⎥\n⎢0  1  0  0  0  1    0     1    -1⎥\n⎢                                 ⎥\n⎢0  0  2  0  0  2    1     1    0 ⎥\n⎢                                 ⎥\n⎢0  0  0  1  0  -1  -1/2  -1/2  0 ⎥\n⎢                                 ⎥\n⎢0  0  0  0  1  -2   0     0    1 ⎥\n⎢                                 ⎥\n⎣0  0  0  0  0  -1  -1/2  1/2   0 ⎦",
      "text/latex": "$\\displaystyle \\left[\\begin{matrix}0 & 0 & 0 & 0 & 0 & 1 & -1 & 0 & 0\\\\0 & 0 & 0 & 0 & 0 & 2 & 1 & -1 & 0\\\\0 & 1 & 0 & 0 & 0 & 1 & 0 & 1 & -1\\\\0 & 0 & 2 & 0 & 0 & 2 & 1 & 1 & 0\\\\0 & 0 & 0 & 1 & 0 & -1 & - \\frac{1}{2} & - \\frac{1}{2} & 0\\\\0 & 0 & 0 & 0 & 1 & -2 & 0 & 0 & 1\\\\0 & 0 & 0 & 0 & 0 & -1 & - \\frac{1}{2} & \\frac{1}{2} & 0\\end{matrix}\\right]$"
     },
     "metadata": {}
    },
    {
     "output_type": "display_data",
     "data": {
      "text/plain": "⎡    0    ⎤\n⎢         ⎥\n⎢    0    ⎥\n⎢         ⎥\n⎢    0    ⎥\n⎢         ⎥\n⎢    0    ⎥\n⎢         ⎥\n⎢-Gamma[P]⎥\n⎢         ⎥\n⎢    0    ⎥\n⎢         ⎥\n⎣    0    ⎦",
      "text/latex": "$\\displaystyle \\left[\\begin{matrix}0\\\\0\\\\0\\\\0\\\\- {\\Gamma}_{P}\\\\0\\\\0\\end{matrix}\\right]$"
     },
     "metadata": {}
    },
    {
     "output_type": "display_data",
     "data": {
      "text/plain": "-Gamma[b] + Gamma[m_n]",
      "image/png": "[encoded data removed]",
      "text/latex": "$\\displaystyle - {\\Gamma}_{b} + {\\Gamma}_{m_{n}}$"
     },
     "metadata": {}
    },
    {
     "output_type": "display_data",
     "data": {
      "text/plain": "Gamma[b] - Gamma[k] + 2⋅Gamma[m_n]",
      "image/png": "[encoded data removed]",
      "text/latex": "$\\displaystyle {\\Gamma}_{b} - {\\Gamma}_{k} + 2 {\\Gamma}_{m_{n}}$"
     },
     "metadata": {}
    },
    {
     "output_type": "display_data",
     "data": {
      "text/plain": "Gamma[F] - Gamma[f] + Gamma[k] + Gamma[m_n]",
      "image/png": "[encoded data removed]",
      "text/latex": "$\\displaystyle {\\Gamma}_{F} - {\\Gamma}_{f} + {\\Gamma}_{k} + {\\Gamma}_{m_{n}}$"
     },
     "metadata": {}
    },
    {
     "output_type": "display_data",
     "data": {
      "text/plain": "Gamma[b] + Gamma[k] + 2⋅Gamma[m_n] + 2⋅Gamma[zeta]",
      "image/png": "[encoded data removed]",
      "text/latex": "$\\displaystyle {\\Gamma}_{b} + {\\Gamma}_{k} + 2 {\\Gamma}_{m_{n}} + 2 {\\Gamma}_{\\zeta}$"
     },
     "metadata": {}
    },
    {
     "output_type": "display_data",
     "data": {
      "text/plain": "                          Gamma[b]   Gamma[k]             \nGamma[P] + Gamma[Sigma] - ──────── - ──────── - Gamma[m_n]\n                             2          2                 ",
      "image/png": "[encoded data removed]",
      "text/latex": "$\\displaystyle {\\Gamma}_{P} + {\\Gamma}_{\\Sigma} - \\frac{{\\Gamma}_{b}}{2} - \\frac{{\\Gamma}_{k}}{2} - {\\Gamma}_{m_{n}}$"
     },
     "metadata": {}
    },
    {
     "output_type": "display_data",
     "data": {
      "text/plain": "Gamma[f] - 2⋅Gamma[m_n] + Gamma[mu]",
      "image/png": "[encoded data removed]",
      "text/latex": "$\\displaystyle {\\Gamma}_{f} - 2 {\\Gamma}_{m_{n}} + {\\Gamma}_{\\mu}$"
     },
     "metadata": {}
    },
    {
     "output_type": "display_data",
     "data": {
      "text/plain": "  Gamma[b]   Gamma[k]             \n- ──────── + ──────── - Gamma[m_n]\n     2          2                 ",
      "image/png": "[encoded data removed]",
      "text/latex": "$\\displaystyle - \\frac{{\\Gamma}_{b}}{2} + \\frac{{\\Gamma}_{k}}{2} - {\\Gamma}_{m_{n}}$"
     },
     "metadata": {}
    }
   ],
   "source": [
    "Gamma = IndexedBase('Gamma')\n",
    "\n",
    "params = [X, B, tau, zeta, Sigma, F, mu, omega, Omega, sigma, f, x, m_n, b, t, omega_0, c, k, m, rho, P]\n",
    "PI_gm = log_PI\n",
    "\n",
    "for elem in params:\n",
    "    for i, p in enumerate(PI_gm):\n",
    "        PI_gm[i] = PI_gm[i].subs(log(elem), Gamma[elem])\n",
    "\n",
    "PI_gm  = list(map(lambda x: x.lhs - x.rhs, PI_gm))\n",
    "#PI_gm[4] = 2*PI_gm[4]\n",
    "gm_par = list(map(lambda x: Gamma[x], params))\n",
    "\n",
    "A, bb = coeff_matrix(PI_gm, *gm_par[:-1]) \n",
    "\n",
    "display(A, bb)\n",
    "for q in PI_gm:\n",
    "    display(q)"
   ]
  },
  {
   "cell_type": "code",
   "execution_count": 50,
   "metadata": {},
   "outputs": [
    {
     "output_type": "display_data",
     "data": {
      "text/plain": "⎡0⎤\n⎢ ⎥\n⎢0⎥\n⎢ ⎥\n⎢0⎥\n⎢ ⎥\n⎢0⎥\n⎢ ⎥\n⎢0⎥\n⎢ ⎥\n⎢0⎥\n⎢ ⎥\n⎣0⎦",
      "text/latex": "$\\displaystyle \\left[\\begin{matrix}0\\\\0\\\\0\\\\0\\\\0\\\\0\\\\0\\end{matrix}\\right]$"
     },
     "metadata": {}
    },
    {
     "output_type": "display_data",
     "data": {
      "text/plain": "Gamma[B] = 0",
      "image/png": "[encoded data removed]",
      "text/latex": "$\\displaystyle {\\Gamma}_{B} = 0$"
     },
     "metadata": {}
    },
    {
     "output_type": "display_data",
     "data": {
      "text/plain": "False",
      "text/latex": "$\\displaystyle \\text{False}$"
     },
     "metadata": {}
    },
    {
     "output_type": "display_data",
     "data": {
      "text/plain": "           -6⋅log(P) \nGamma[F] = ──────────\n               37    ",
      "image/png": "[encoded data removed]",
      "text/latex": "$\\displaystyle {\\Gamma}_{F} = - \\frac{6 \\log{\\left(P \\right)}}{37}$"
     },
     "metadata": {}
    },
    {
     "output_type": "display_data",
     "data": {
      "text/plain": "F = (log(log(P)) - log(37) + log(6) + ⅈ⋅π)⋅log(10)",
      "image/png": "[encoded data removed]",
      "text/latex": "$\\displaystyle F = \\left(\\log{\\left(\\log{\\left(P \\right)} \\right)} - \\log{\\left(37 \\right)} + \\log{\\left(6 \\right)} + i \\pi\\right) \\log{\\left(10 \\right)}$"
     },
     "metadata": {}
    },
    {
     "output_type": "display_data",
     "data": {
      "text/plain": "              -9⋅log(P) \nGamma[zeta] = ──────────\n                  37    ",
      "image/png": "[encoded data removed]",
      "text/latex": "$\\displaystyle {\\Gamma}_{\\zeta} = - \\frac{9 \\log{\\left(P \\right)}}{37}$"
     },
     "metadata": {}
    },
    {
     "output_type": "display_data",
     "data": {
      "text/plain": "zeta = (log(log(P)) - log(37) + 2⋅log(3) + ⅈ⋅π)⋅log(10)",
      "image/png": "[encoded data removed]",
      "text/latex": "$\\displaystyle \\zeta = \\left(\\log{\\left(\\log{\\left(P \\right)} \\right)} - \\log{\\left(37 \\right)} + 2 \\log{\\left(3 \\right)} + i \\pi\\right) \\log{\\left(10 \\right)}$"
     },
     "metadata": {}
    },
    {
     "output_type": "display_data",
     "data": {
      "text/plain": "               -28⋅log(P) \nGamma[Sigma] = ───────────\n                    37    ",
      "image/png": "[encoded data removed]",
      "text/latex": "$\\displaystyle {\\Gamma}_{\\Sigma} = - \\frac{28 \\log{\\left(P \\right)}}{37}$"
     },
     "metadata": {}
    },
    {
     "output_type": "display_data",
     "data": {
      "text/plain": "Sigma = (log(log(P)) - log(37) + log(28) + ⅈ⋅π)⋅log(10)",
      "image/png": "[encoded data removed]",
      "text/latex": "$\\displaystyle \\Sigma = \\left(\\log{\\left(\\log{\\left(P \\right)} \\right)} - \\log{\\left(37 \\right)} + \\log{\\left(28 \\right)} + i \\pi\\right) \\log{\\left(10 \\right)}$"
     },
     "metadata": {}
    },
    {
     "output_type": "display_data",
     "data": {
      "text/plain": "Gamma[mu] = 0",
      "image/png": "[encoded data removed]",
      "text/latex": "$\\displaystyle {\\Gamma}_{\\mu} = 0$"
     },
     "metadata": {}
    },
    {
     "output_type": "display_data",
     "data": {
      "text/plain": "False",
      "text/latex": "$\\displaystyle \\text{False}$"
     },
     "metadata": {}
    },
    {
     "output_type": "display_data",
     "data": {
      "text/plain": "             3⋅log(P)\nGamma[m_n] = ────────\n                37   ",
      "image/png": "[encoded data removed]",
      "text/latex": "$\\displaystyle {\\Gamma}_{m_{n}} = \\frac{3 \\log{\\left(P \\right)}}{37}$"
     },
     "metadata": {}
    },
    {
     "output_type": "display_data",
     "data": {
      "text/plain": "m_n = (log(log(P)) - log(37) + log(3))⋅log(10)",
      "image/png": "[encoded data removed]",
      "text/latex": "$\\displaystyle m_{n} = \\left(\\log{\\left(\\log{\\left(P \\right)} \\right)} - \\log{\\left(37 \\right)} + \\log{\\left(3 \\right)}\\right) \\log{\\left(10 \\right)}$"
     },
     "metadata": {}
    },
    {
     "output_type": "display_data",
     "data": {
      "text/plain": "           3⋅log(P)\nGamma[b] = ────────\n              37   ",
      "image/png": "[encoded data removed]",
      "text/latex": "$\\displaystyle {\\Gamma}_{b} = \\frac{3 \\log{\\left(P \\right)}}{37}$"
     },
     "metadata": {}
    },
    {
     "output_type": "display_data",
     "data": {
      "text/plain": "b = (log(log(P)) - log(37) + log(3))⋅log(10)",
      "image/png": "[encoded data removed]",
      "text/latex": "$\\displaystyle b = \\left(\\log{\\left(\\log{\\left(P \\right)} \\right)} - \\log{\\left(37 \\right)} + \\log{\\left(3 \\right)}\\right) \\log{\\left(10 \\right)}$"
     },
     "metadata": {}
    },
    {
     "output_type": "display_data",
     "data": {
      "text/plain": "           9⋅log(P)\nGamma[k] = ────────\n              37   ",
      "image/png": "[encoded data removed]",
      "text/latex": "$\\displaystyle {\\Gamma}_{k} = \\frac{9 \\log{\\left(P \\right)}}{37}$"
     },
     "metadata": {}
    },
    {
     "output_type": "display_data",
     "data": {
      "text/plain": "k = (log(log(P)) - log(37) + 2⋅log(3))⋅log(10)",
      "image/png": "[encoded data removed]",
      "text/latex": "$\\displaystyle k = \\left(\\log{\\left(\\log{\\left(P \\right)} \\right)} - \\log{\\left(37 \\right)} + 2 \\log{\\left(3 \\right)}\\right) \\log{\\left(10 \\right)}$"
     },
     "metadata": {}
    },
    {
     "output_type": "display_data",
     "data": {
      "text/plain": "           6⋅log(P)\nGamma[f] = ────────\n              37   ",
      "image/png": "[encoded data removed]",
      "text/latex": "$\\displaystyle {\\Gamma}_{f} = \\frac{6 \\log{\\left(P \\right)}}{37}$"
     },
     "metadata": {}
    },
    {
     "output_type": "display_data",
     "data": {
      "text/plain": "f = (log(log(P)) - log(37) + log(6))⋅log(10)",
      "image/png": "[encoded data removed]",
      "text/latex": "$\\displaystyle f = \\left(\\log{\\left(\\log{\\left(P \\right)} \\right)} - \\log{\\left(37 \\right)} + \\log{\\left(6 \\right)}\\right) \\log{\\left(10 \\right)}$"
     },
     "metadata": {}
    }
   ],
   "source": [
    "x_p = A.pinv()*bb\n",
    "\n",
    "display(A*x_p - bb)\n",
    "x_p = x_p.subs(Gamma[P], log(P))\n",
    "\n",
    "for i, q in enumerate(x_p):\n",
    "    display(Eq(gm_par[i], q))\n",
    "    display(Eq(params[i], log_simp(exp(log(q)))))"
   ]
  },
  {
   "cell_type": "code",
   "execution_count": 52,
   "metadata": {},
   "outputs": [
    {
     "output_type": "execute_result",
     "data": {
      "text/plain": [
       "'% Not supported in Octave:\\n% IndexedBase\\n% IndexedBase\\n% IndexedBase\\n% IndexedBase\\n% IndexedBase\\n% IndexedBase\\n% IndexedBase\\n% IndexedBase\\n% IndexedBase\\n% IndexedBase\\n{B, F, zeta, Sigma, mu, m_n, b, k, f, P}'"
      ]
     },
     "metadata": {},
     "execution_count": 52
    }
   ],
   "source": [
    "printing.octave.octave_code(params)"
   ]
  },
  {
   "cell_type": "code",
   "execution_count": 46,
   "metadata": {},
   "outputs": [],
   "source": [
    "get_script = False\n",
    "\n",
    "if get_script:\n",
    "    !jupyter nbconvert --to script DA.ipynb"
   ]
  },
  {
   "cell_type": "code",
   "execution_count": 47,
   "metadata": {},
   "outputs": [
    {
     "output_type": "error",
     "ename": "TypeError",
     "evalue": "\nThe base can only be replaced with a string, Symbol, IndexedBase or an\nobject with a method for getting items (i.e. an object with a\n`__getitem__` method).",
     "traceback": [
      "\u001b[1;31m---------------------------------------------------------------------------\u001b[0m",
      "\u001b[1;31mTypeError\u001b[0m                                 Traceback (most recent call last)",
      "\u001b[1;32m<ipython-input-47-b0867e8f92b6>\u001b[0m in \u001b[0;36m<module>\u001b[1;34m\u001b[0m\n\u001b[0;32m     13\u001b[0m         \u001b[0mPI_s\u001b[0m\u001b[1;33m[\u001b[0m\u001b[0mi\u001b[0m\u001b[1;33m]\u001b[0m \u001b[1;33m=\u001b[0m \u001b[0mPI\u001b[0m\u001b[1;33m[\u001b[0m\u001b[0mi\u001b[0m\u001b[1;33m]\u001b[0m\u001b[1;33m.\u001b[0m\u001b[0msubs\u001b[0m\u001b[1;33m(\u001b[0m\u001b[0mq\u001b[0m\u001b[1;33m,\u001b[0m \u001b[0mq\u001b[0m\u001b[1;33m[\u001b[0m\u001b[0ms_idx\u001b[0m\u001b[1;33m]\u001b[0m\u001b[1;33m)\u001b[0m\u001b[1;33m\u001b[0m\u001b[1;33m\u001b[0m\u001b[0m\n\u001b[0;32m     14\u001b[0m         \u001b[0mPI_r\u001b[0m\u001b[1;33m[\u001b[0m\u001b[0mi\u001b[0m\u001b[1;33m]\u001b[0m \u001b[1;33m=\u001b[0m \u001b[0mPI\u001b[0m\u001b[1;33m[\u001b[0m\u001b[0mi\u001b[0m\u001b[1;33m]\u001b[0m\u001b[1;33m.\u001b[0m\u001b[0msubs\u001b[0m\u001b[1;33m(\u001b[0m\u001b[0mq\u001b[0m\u001b[1;33m,\u001b[0m \u001b[0mq\u001b[0m\u001b[1;33m[\u001b[0m\u001b[0mr_idx\u001b[0m\u001b[1;33m]\u001b[0m\u001b[1;33m)\u001b[0m\u001b[1;33m\u001b[0m\u001b[1;33m\u001b[0m\u001b[0m\n\u001b[1;32m---> 15\u001b[1;33m         \u001b[0mom_relS\u001b[0m \u001b[1;33m=\u001b[0m \u001b[0mom_relS\u001b[0m\u001b[1;33m.\u001b[0m\u001b[0msubs\u001b[0m\u001b[1;33m(\u001b[0m\u001b[0mq\u001b[0m\u001b[1;33m,\u001b[0m \u001b[0mq\u001b[0m\u001b[1;33m[\u001b[0m\u001b[0ms_idx\u001b[0m\u001b[1;33m]\u001b[0m\u001b[1;33m)\u001b[0m\u001b[1;33m\u001b[0m\u001b[1;33m\u001b[0m\u001b[0m\n\u001b[0m\u001b[0;32m     16\u001b[0m         \u001b[0mom_relR\u001b[0m \u001b[1;33m=\u001b[0m \u001b[0mom_relR\u001b[0m\u001b[1;33m.\u001b[0m\u001b[0msubs\u001b[0m\u001b[1;33m(\u001b[0m\u001b[0mq\u001b[0m\u001b[1;33m,\u001b[0m \u001b[0mq\u001b[0m\u001b[1;33m[\u001b[0m\u001b[0mr_idx\u001b[0m\u001b[1;33m]\u001b[0m\u001b[1;33m)\u001b[0m\u001b[1;33m\u001b[0m\u001b[1;33m\u001b[0m\u001b[0m\n\u001b[0;32m     17\u001b[0m \u001b[1;33m\u001b[0m\u001b[0m\n",
      "\u001b[1;32m~\\Anaconda3\\lib\\site-packages\\sympy\\core\\basic.py\u001b[0m in \u001b[0;36msubs\u001b[1;34m(self, *args, **kwargs)\u001b[0m\n\u001b[0;32m   1000\u001b[0m             \u001b[0mrv\u001b[0m \u001b[1;33m=\u001b[0m \u001b[0mself\u001b[0m\u001b[1;33m\u001b[0m\u001b[1;33m\u001b[0m\u001b[0m\n\u001b[0;32m   1001\u001b[0m             \u001b[1;32mfor\u001b[0m \u001b[0mold\u001b[0m\u001b[1;33m,\u001b[0m \u001b[0mnew\u001b[0m \u001b[1;32min\u001b[0m \u001b[0msequence\u001b[0m\u001b[1;33m:\u001b[0m\u001b[1;33m\u001b[0m\u001b[1;33m\u001b[0m\u001b[0m\n\u001b[1;32m-> 1002\u001b[1;33m                 \u001b[0mrv\u001b[0m \u001b[1;33m=\u001b[0m \u001b[0mrv\u001b[0m\u001b[1;33m.\u001b[0m\u001b[0m_subs\u001b[0m\u001b[1;33m(\u001b[0m\u001b[0mold\u001b[0m\u001b[1;33m,\u001b[0m \u001b[0mnew\u001b[0m\u001b[1;33m,\u001b[0m \u001b[1;33m**\u001b[0m\u001b[0mkwargs\u001b[0m\u001b[1;33m)\u001b[0m\u001b[1;33m\u001b[0m\u001b[1;33m\u001b[0m\u001b[0m\n\u001b[0m\u001b[0;32m   1003\u001b[0m                 \u001b[1;32mif\u001b[0m \u001b[1;32mnot\u001b[0m \u001b[0misinstance\u001b[0m\u001b[1;33m(\u001b[0m\u001b[0mrv\u001b[0m\u001b[1;33m,\u001b[0m \u001b[0mBasic\u001b[0m\u001b[1;33m)\u001b[0m\u001b[1;33m:\u001b[0m\u001b[1;33m\u001b[0m\u001b[1;33m\u001b[0m\u001b[0m\n\u001b[0;32m   1004\u001b[0m                     \u001b[1;32mbreak\u001b[0m\u001b[1;33m\u001b[0m\u001b[1;33m\u001b[0m\u001b[0m\n",
      "\u001b[1;32m~\\Anaconda3\\lib\\site-packages\\sympy\\core\\basic.py\u001b[0m in \u001b[0;36m_subs\u001b[1;34m(self, old, new, **hints)\u001b[0m\n\u001b[0;32m   1114\u001b[0m         \u001b[0mrv\u001b[0m \u001b[1;33m=\u001b[0m \u001b[0mself\u001b[0m\u001b[1;33m.\u001b[0m\u001b[0m_eval_subs\u001b[0m\u001b[1;33m(\u001b[0m\u001b[0mold\u001b[0m\u001b[1;33m,\u001b[0m \u001b[0mnew\u001b[0m\u001b[1;33m)\u001b[0m\u001b[1;33m\u001b[0m\u001b[1;33m\u001b[0m\u001b[0m\n\u001b[0;32m   1115\u001b[0m         \u001b[1;32mif\u001b[0m \u001b[0mrv\u001b[0m \u001b[1;32mis\u001b[0m \u001b[1;32mNone\u001b[0m\u001b[1;33m:\u001b[0m\u001b[1;33m\u001b[0m\u001b[1;33m\u001b[0m\u001b[0m\n\u001b[1;32m-> 1116\u001b[1;33m             \u001b[0mrv\u001b[0m \u001b[1;33m=\u001b[0m \u001b[0mfallback\u001b[0m\u001b[1;33m(\u001b[0m\u001b[0mself\u001b[0m\u001b[1;33m,\u001b[0m \u001b[0mold\u001b[0m\u001b[1;33m,\u001b[0m \u001b[0mnew\u001b[0m\u001b[1;33m)\u001b[0m\u001b[1;33m\u001b[0m\u001b[1;33m\u001b[0m\u001b[0m\n\u001b[0m\u001b[0;32m   1117\u001b[0m         \u001b[1;32mreturn\u001b[0m \u001b[0mrv\u001b[0m\u001b[1;33m\u001b[0m\u001b[1;33m\u001b[0m\u001b[0m\n\u001b[0;32m   1118\u001b[0m \u001b[1;33m\u001b[0m\u001b[0m\n",
      "\u001b[1;32m~\\Anaconda3\\lib\\site-packages\\sympy\\core\\basic.py\u001b[0m in \u001b[0;36mfallback\u001b[1;34m(self, old, new)\u001b[0m\n\u001b[0;32m   1086\u001b[0m                 \u001b[1;32mif\u001b[0m \u001b[1;32mnot\u001b[0m \u001b[0mhasattr\u001b[0m\u001b[1;33m(\u001b[0m\u001b[0marg\u001b[0m\u001b[1;33m,\u001b[0m \u001b[1;34m'_eval_subs'\u001b[0m\u001b[1;33m)\u001b[0m\u001b[1;33m:\u001b[0m\u001b[1;33m\u001b[0m\u001b[1;33m\u001b[0m\u001b[0m\n\u001b[0;32m   1087\u001b[0m                     \u001b[1;32mcontinue\u001b[0m\u001b[1;33m\u001b[0m\u001b[1;33m\u001b[0m\u001b[0m\n\u001b[1;32m-> 1088\u001b[1;33m                 \u001b[0marg\u001b[0m \u001b[1;33m=\u001b[0m \u001b[0marg\u001b[0m\u001b[1;33m.\u001b[0m\u001b[0m_subs\u001b[0m\u001b[1;33m(\u001b[0m\u001b[0mold\u001b[0m\u001b[1;33m,\u001b[0m \u001b[0mnew\u001b[0m\u001b[1;33m,\u001b[0m \u001b[1;33m**\u001b[0m\u001b[0mhints\u001b[0m\u001b[1;33m)\u001b[0m\u001b[1;33m\u001b[0m\u001b[1;33m\u001b[0m\u001b[0m\n\u001b[0m\u001b[0;32m   1089\u001b[0m                 \u001b[1;32mif\u001b[0m \u001b[1;32mnot\u001b[0m \u001b[0m_aresame\u001b[0m\u001b[1;33m(\u001b[0m\u001b[0marg\u001b[0m\u001b[1;33m,\u001b[0m \u001b[0margs\u001b[0m\u001b[1;33m[\u001b[0m\u001b[0mi\u001b[0m\u001b[1;33m]\u001b[0m\u001b[1;33m)\u001b[0m\u001b[1;33m:\u001b[0m\u001b[1;33m\u001b[0m\u001b[1;33m\u001b[0m\u001b[0m\n\u001b[0;32m   1090\u001b[0m                     \u001b[0mhit\u001b[0m \u001b[1;33m=\u001b[0m \u001b[1;32mTrue\u001b[0m\u001b[1;33m\u001b[0m\u001b[1;33m\u001b[0m\u001b[0m\n",
      "\u001b[1;32m~\\Anaconda3\\lib\\site-packages\\sympy\\core\\basic.py\u001b[0m in \u001b[0;36m_subs\u001b[1;34m(self, old, new, **hints)\u001b[0m\n\u001b[0;32m   1114\u001b[0m         \u001b[0mrv\u001b[0m \u001b[1;33m=\u001b[0m \u001b[0mself\u001b[0m\u001b[1;33m.\u001b[0m\u001b[0m_eval_subs\u001b[0m\u001b[1;33m(\u001b[0m\u001b[0mold\u001b[0m\u001b[1;33m,\u001b[0m \u001b[0mnew\u001b[0m\u001b[1;33m)\u001b[0m\u001b[1;33m\u001b[0m\u001b[1;33m\u001b[0m\u001b[0m\n\u001b[0;32m   1115\u001b[0m         \u001b[1;32mif\u001b[0m \u001b[0mrv\u001b[0m \u001b[1;32mis\u001b[0m \u001b[1;32mNone\u001b[0m\u001b[1;33m:\u001b[0m\u001b[1;33m\u001b[0m\u001b[1;33m\u001b[0m\u001b[0m\n\u001b[1;32m-> 1116\u001b[1;33m             \u001b[0mrv\u001b[0m \u001b[1;33m=\u001b[0m \u001b[0mfallback\u001b[0m\u001b[1;33m(\u001b[0m\u001b[0mself\u001b[0m\u001b[1;33m,\u001b[0m \u001b[0mold\u001b[0m\u001b[1;33m,\u001b[0m \u001b[0mnew\u001b[0m\u001b[1;33m)\u001b[0m\u001b[1;33m\u001b[0m\u001b[1;33m\u001b[0m\u001b[0m\n\u001b[0m\u001b[0;32m   1117\u001b[0m         \u001b[1;32mreturn\u001b[0m \u001b[0mrv\u001b[0m\u001b[1;33m\u001b[0m\u001b[1;33m\u001b[0m\u001b[0m\n\u001b[0;32m   1118\u001b[0m \u001b[1;33m\u001b[0m\u001b[0m\n",
      "\u001b[1;32m~\\Anaconda3\\lib\\site-packages\\sympy\\core\\basic.py\u001b[0m in \u001b[0;36mfallback\u001b[1;34m(self, old, new)\u001b[0m\n\u001b[0;32m   1086\u001b[0m                 \u001b[1;32mif\u001b[0m \u001b[1;32mnot\u001b[0m \u001b[0mhasattr\u001b[0m\u001b[1;33m(\u001b[0m\u001b[0marg\u001b[0m\u001b[1;33m,\u001b[0m \u001b[1;34m'_eval_subs'\u001b[0m\u001b[1;33m)\u001b[0m\u001b[1;33m:\u001b[0m\u001b[1;33m\u001b[0m\u001b[1;33m\u001b[0m\u001b[0m\n\u001b[0;32m   1087\u001b[0m                     \u001b[1;32mcontinue\u001b[0m\u001b[1;33m\u001b[0m\u001b[1;33m\u001b[0m\u001b[0m\n\u001b[1;32m-> 1088\u001b[1;33m                 \u001b[0marg\u001b[0m \u001b[1;33m=\u001b[0m \u001b[0marg\u001b[0m\u001b[1;33m.\u001b[0m\u001b[0m_subs\u001b[0m\u001b[1;33m(\u001b[0m\u001b[0mold\u001b[0m\u001b[1;33m,\u001b[0m \u001b[0mnew\u001b[0m\u001b[1;33m,\u001b[0m \u001b[1;33m**\u001b[0m\u001b[0mhints\u001b[0m\u001b[1;33m)\u001b[0m\u001b[1;33m\u001b[0m\u001b[1;33m\u001b[0m\u001b[0m\n\u001b[0m\u001b[0;32m   1089\u001b[0m                 \u001b[1;32mif\u001b[0m \u001b[1;32mnot\u001b[0m \u001b[0m_aresame\u001b[0m\u001b[1;33m(\u001b[0m\u001b[0marg\u001b[0m\u001b[1;33m,\u001b[0m \u001b[0margs\u001b[0m\u001b[1;33m[\u001b[0m\u001b[0mi\u001b[0m\u001b[1;33m]\u001b[0m\u001b[1;33m)\u001b[0m\u001b[1;33m:\u001b[0m\u001b[1;33m\u001b[0m\u001b[1;33m\u001b[0m\u001b[0m\n\u001b[0;32m   1090\u001b[0m                     \u001b[0mhit\u001b[0m \u001b[1;33m=\u001b[0m \u001b[1;32mTrue\u001b[0m\u001b[1;33m\u001b[0m\u001b[1;33m\u001b[0m\u001b[0m\n",
      "\u001b[1;32m~\\Anaconda3\\lib\\site-packages\\sympy\\core\\basic.py\u001b[0m in \u001b[0;36m_subs\u001b[1;34m(self, old, new, **hints)\u001b[0m\n\u001b[0;32m   1114\u001b[0m         \u001b[0mrv\u001b[0m \u001b[1;33m=\u001b[0m \u001b[0mself\u001b[0m\u001b[1;33m.\u001b[0m\u001b[0m_eval_subs\u001b[0m\u001b[1;33m(\u001b[0m\u001b[0mold\u001b[0m\u001b[1;33m,\u001b[0m \u001b[0mnew\u001b[0m\u001b[1;33m)\u001b[0m\u001b[1;33m\u001b[0m\u001b[1;33m\u001b[0m\u001b[0m\n\u001b[0;32m   1115\u001b[0m         \u001b[1;32mif\u001b[0m \u001b[0mrv\u001b[0m \u001b[1;32mis\u001b[0m \u001b[1;32mNone\u001b[0m\u001b[1;33m:\u001b[0m\u001b[1;33m\u001b[0m\u001b[1;33m\u001b[0m\u001b[0m\n\u001b[1;32m-> 1116\u001b[1;33m             \u001b[0mrv\u001b[0m \u001b[1;33m=\u001b[0m \u001b[0mfallback\u001b[0m\u001b[1;33m(\u001b[0m\u001b[0mself\u001b[0m\u001b[1;33m,\u001b[0m \u001b[0mold\u001b[0m\u001b[1;33m,\u001b[0m \u001b[0mnew\u001b[0m\u001b[1;33m)\u001b[0m\u001b[1;33m\u001b[0m\u001b[1;33m\u001b[0m\u001b[0m\n\u001b[0m\u001b[0;32m   1117\u001b[0m         \u001b[1;32mreturn\u001b[0m \u001b[0mrv\u001b[0m\u001b[1;33m\u001b[0m\u001b[1;33m\u001b[0m\u001b[0m\n\u001b[0;32m   1118\u001b[0m \u001b[1;33m\u001b[0m\u001b[0m\n",
      "\u001b[1;32m~\\Anaconda3\\lib\\site-packages\\sympy\\core\\basic.py\u001b[0m in \u001b[0;36mfallback\u001b[1;34m(self, old, new)\u001b[0m\n\u001b[0;32m   1086\u001b[0m                 \u001b[1;32mif\u001b[0m \u001b[1;32mnot\u001b[0m \u001b[0mhasattr\u001b[0m\u001b[1;33m(\u001b[0m\u001b[0marg\u001b[0m\u001b[1;33m,\u001b[0m \u001b[1;34m'_eval_subs'\u001b[0m\u001b[1;33m)\u001b[0m\u001b[1;33m:\u001b[0m\u001b[1;33m\u001b[0m\u001b[1;33m\u001b[0m\u001b[0m\n\u001b[0;32m   1087\u001b[0m                     \u001b[1;32mcontinue\u001b[0m\u001b[1;33m\u001b[0m\u001b[1;33m\u001b[0m\u001b[0m\n\u001b[1;32m-> 1088\u001b[1;33m                 \u001b[0marg\u001b[0m \u001b[1;33m=\u001b[0m \u001b[0marg\u001b[0m\u001b[1;33m.\u001b[0m\u001b[0m_subs\u001b[0m\u001b[1;33m(\u001b[0m\u001b[0mold\u001b[0m\u001b[1;33m,\u001b[0m \u001b[0mnew\u001b[0m\u001b[1;33m,\u001b[0m \u001b[1;33m**\u001b[0m\u001b[0mhints\u001b[0m\u001b[1;33m)\u001b[0m\u001b[1;33m\u001b[0m\u001b[1;33m\u001b[0m\u001b[0m\n\u001b[0m\u001b[0;32m   1089\u001b[0m                 \u001b[1;32mif\u001b[0m \u001b[1;32mnot\u001b[0m \u001b[0m_aresame\u001b[0m\u001b[1;33m(\u001b[0m\u001b[0marg\u001b[0m\u001b[1;33m,\u001b[0m \u001b[0margs\u001b[0m\u001b[1;33m[\u001b[0m\u001b[0mi\u001b[0m\u001b[1;33m]\u001b[0m\u001b[1;33m)\u001b[0m\u001b[1;33m:\u001b[0m\u001b[1;33m\u001b[0m\u001b[1;33m\u001b[0m\u001b[0m\n\u001b[0;32m   1090\u001b[0m                     \u001b[0mhit\u001b[0m \u001b[1;33m=\u001b[0m \u001b[1;32mTrue\u001b[0m\u001b[1;33m\u001b[0m\u001b[1;33m\u001b[0m\u001b[0m\n",
      "\u001b[1;32m~\\Anaconda3\\lib\\site-packages\\sympy\\core\\basic.py\u001b[0m in \u001b[0;36m_subs\u001b[1;34m(self, old, new, **hints)\u001b[0m\n\u001b[0;32m   1114\u001b[0m         \u001b[0mrv\u001b[0m \u001b[1;33m=\u001b[0m \u001b[0mself\u001b[0m\u001b[1;33m.\u001b[0m\u001b[0m_eval_subs\u001b[0m\u001b[1;33m(\u001b[0m\u001b[0mold\u001b[0m\u001b[1;33m,\u001b[0m \u001b[0mnew\u001b[0m\u001b[1;33m)\u001b[0m\u001b[1;33m\u001b[0m\u001b[1;33m\u001b[0m\u001b[0m\n\u001b[0;32m   1115\u001b[0m         \u001b[1;32mif\u001b[0m \u001b[0mrv\u001b[0m \u001b[1;32mis\u001b[0m \u001b[1;32mNone\u001b[0m\u001b[1;33m:\u001b[0m\u001b[1;33m\u001b[0m\u001b[1;33m\u001b[0m\u001b[0m\n\u001b[1;32m-> 1116\u001b[1;33m             \u001b[0mrv\u001b[0m \u001b[1;33m=\u001b[0m \u001b[0mfallback\u001b[0m\u001b[1;33m(\u001b[0m\u001b[0mself\u001b[0m\u001b[1;33m,\u001b[0m \u001b[0mold\u001b[0m\u001b[1;33m,\u001b[0m \u001b[0mnew\u001b[0m\u001b[1;33m)\u001b[0m\u001b[1;33m\u001b[0m\u001b[1;33m\u001b[0m\u001b[0m\n\u001b[0m\u001b[0;32m   1117\u001b[0m         \u001b[1;32mreturn\u001b[0m \u001b[0mrv\u001b[0m\u001b[1;33m\u001b[0m\u001b[1;33m\u001b[0m\u001b[0m\n\u001b[0;32m   1118\u001b[0m \u001b[1;33m\u001b[0m\u001b[0m\n",
      "\u001b[1;32m~\\Anaconda3\\lib\\site-packages\\sympy\\core\\basic.py\u001b[0m in \u001b[0;36mfallback\u001b[1;34m(self, old, new)\u001b[0m\n\u001b[0;32m   1086\u001b[0m                 \u001b[1;32mif\u001b[0m \u001b[1;32mnot\u001b[0m \u001b[0mhasattr\u001b[0m\u001b[1;33m(\u001b[0m\u001b[0marg\u001b[0m\u001b[1;33m,\u001b[0m \u001b[1;34m'_eval_subs'\u001b[0m\u001b[1;33m)\u001b[0m\u001b[1;33m:\u001b[0m\u001b[1;33m\u001b[0m\u001b[1;33m\u001b[0m\u001b[0m\n\u001b[0;32m   1087\u001b[0m                     \u001b[1;32mcontinue\u001b[0m\u001b[1;33m\u001b[0m\u001b[1;33m\u001b[0m\u001b[0m\n\u001b[1;32m-> 1088\u001b[1;33m                 \u001b[0marg\u001b[0m \u001b[1;33m=\u001b[0m \u001b[0marg\u001b[0m\u001b[1;33m.\u001b[0m\u001b[0m_subs\u001b[0m\u001b[1;33m(\u001b[0m\u001b[0mold\u001b[0m\u001b[1;33m,\u001b[0m \u001b[0mnew\u001b[0m\u001b[1;33m,\u001b[0m \u001b[1;33m**\u001b[0m\u001b[0mhints\u001b[0m\u001b[1;33m)\u001b[0m\u001b[1;33m\u001b[0m\u001b[1;33m\u001b[0m\u001b[0m\n\u001b[0m\u001b[0;32m   1089\u001b[0m                 \u001b[1;32mif\u001b[0m \u001b[1;32mnot\u001b[0m \u001b[0m_aresame\u001b[0m\u001b[1;33m(\u001b[0m\u001b[0marg\u001b[0m\u001b[1;33m,\u001b[0m \u001b[0margs\u001b[0m\u001b[1;33m[\u001b[0m\u001b[0mi\u001b[0m\u001b[1;33m]\u001b[0m\u001b[1;33m)\u001b[0m\u001b[1;33m:\u001b[0m\u001b[1;33m\u001b[0m\u001b[1;33m\u001b[0m\u001b[0m\n\u001b[0;32m   1090\u001b[0m                     \u001b[0mhit\u001b[0m \u001b[1;33m=\u001b[0m \u001b[1;32mTrue\u001b[0m\u001b[1;33m\u001b[0m\u001b[1;33m\u001b[0m\u001b[0m\n",
      "\u001b[1;32m~\\Anaconda3\\lib\\site-packages\\sympy\\core\\basic.py\u001b[0m in \u001b[0;36m_subs\u001b[1;34m(self, old, new, **hints)\u001b[0m\n\u001b[0;32m   1114\u001b[0m         \u001b[0mrv\u001b[0m \u001b[1;33m=\u001b[0m \u001b[0mself\u001b[0m\u001b[1;33m.\u001b[0m\u001b[0m_eval_subs\u001b[0m\u001b[1;33m(\u001b[0m\u001b[0mold\u001b[0m\u001b[1;33m,\u001b[0m \u001b[0mnew\u001b[0m\u001b[1;33m)\u001b[0m\u001b[1;33m\u001b[0m\u001b[1;33m\u001b[0m\u001b[0m\n\u001b[0;32m   1115\u001b[0m         \u001b[1;32mif\u001b[0m \u001b[0mrv\u001b[0m \u001b[1;32mis\u001b[0m \u001b[1;32mNone\u001b[0m\u001b[1;33m:\u001b[0m\u001b[1;33m\u001b[0m\u001b[1;33m\u001b[0m\u001b[0m\n\u001b[1;32m-> 1116\u001b[1;33m             \u001b[0mrv\u001b[0m \u001b[1;33m=\u001b[0m \u001b[0mfallback\u001b[0m\u001b[1;33m(\u001b[0m\u001b[0mself\u001b[0m\u001b[1;33m,\u001b[0m \u001b[0mold\u001b[0m\u001b[1;33m,\u001b[0m \u001b[0mnew\u001b[0m\u001b[1;33m)\u001b[0m\u001b[1;33m\u001b[0m\u001b[1;33m\u001b[0m\u001b[0m\n\u001b[0m\u001b[0;32m   1117\u001b[0m         \u001b[1;32mreturn\u001b[0m \u001b[0mrv\u001b[0m\u001b[1;33m\u001b[0m\u001b[1;33m\u001b[0m\u001b[0m\n\u001b[0;32m   1118\u001b[0m \u001b[1;33m\u001b[0m\u001b[0m\n",
      "\u001b[1;32m~\\Anaconda3\\lib\\site-packages\\sympy\\core\\basic.py\u001b[0m in \u001b[0;36mfallback\u001b[1;34m(self, old, new)\u001b[0m\n\u001b[0;32m   1086\u001b[0m                 \u001b[1;32mif\u001b[0m \u001b[1;32mnot\u001b[0m \u001b[0mhasattr\u001b[0m\u001b[1;33m(\u001b[0m\u001b[0marg\u001b[0m\u001b[1;33m,\u001b[0m \u001b[1;34m'_eval_subs'\u001b[0m\u001b[1;33m)\u001b[0m\u001b[1;33m:\u001b[0m\u001b[1;33m\u001b[0m\u001b[1;33m\u001b[0m\u001b[0m\n\u001b[0;32m   1087\u001b[0m                     \u001b[1;32mcontinue\u001b[0m\u001b[1;33m\u001b[0m\u001b[1;33m\u001b[0m\u001b[0m\n\u001b[1;32m-> 1088\u001b[1;33m                 \u001b[0marg\u001b[0m \u001b[1;33m=\u001b[0m \u001b[0marg\u001b[0m\u001b[1;33m.\u001b[0m\u001b[0m_subs\u001b[0m\u001b[1;33m(\u001b[0m\u001b[0mold\u001b[0m\u001b[1;33m,\u001b[0m \u001b[0mnew\u001b[0m\u001b[1;33m,\u001b[0m \u001b[1;33m**\u001b[0m\u001b[0mhints\u001b[0m\u001b[1;33m)\u001b[0m\u001b[1;33m\u001b[0m\u001b[1;33m\u001b[0m\u001b[0m\n\u001b[0m\u001b[0;32m   1089\u001b[0m                 \u001b[1;32mif\u001b[0m \u001b[1;32mnot\u001b[0m \u001b[0m_aresame\u001b[0m\u001b[1;33m(\u001b[0m\u001b[0marg\u001b[0m\u001b[1;33m,\u001b[0m \u001b[0margs\u001b[0m\u001b[1;33m[\u001b[0m\u001b[0mi\u001b[0m\u001b[1;33m]\u001b[0m\u001b[1;33m)\u001b[0m\u001b[1;33m:\u001b[0m\u001b[1;33m\u001b[0m\u001b[1;33m\u001b[0m\u001b[0m\n\u001b[0;32m   1090\u001b[0m                     \u001b[0mhit\u001b[0m \u001b[1;33m=\u001b[0m \u001b[1;32mTrue\u001b[0m\u001b[1;33m\u001b[0m\u001b[1;33m\u001b[0m\u001b[0m\n",
      "\u001b[1;32m~\\Anaconda3\\lib\\site-packages\\sympy\\core\\basic.py\u001b[0m in \u001b[0;36m_subs\u001b[1;34m(self, old, new, **hints)\u001b[0m\n\u001b[0;32m   1114\u001b[0m         \u001b[0mrv\u001b[0m \u001b[1;33m=\u001b[0m \u001b[0mself\u001b[0m\u001b[1;33m.\u001b[0m\u001b[0m_eval_subs\u001b[0m\u001b[1;33m(\u001b[0m\u001b[0mold\u001b[0m\u001b[1;33m,\u001b[0m \u001b[0mnew\u001b[0m\u001b[1;33m)\u001b[0m\u001b[1;33m\u001b[0m\u001b[1;33m\u001b[0m\u001b[0m\n\u001b[0;32m   1115\u001b[0m         \u001b[1;32mif\u001b[0m \u001b[0mrv\u001b[0m \u001b[1;32mis\u001b[0m \u001b[1;32mNone\u001b[0m\u001b[1;33m:\u001b[0m\u001b[1;33m\u001b[0m\u001b[1;33m\u001b[0m\u001b[0m\n\u001b[1;32m-> 1116\u001b[1;33m             \u001b[0mrv\u001b[0m \u001b[1;33m=\u001b[0m \u001b[0mfallback\u001b[0m\u001b[1;33m(\u001b[0m\u001b[0mself\u001b[0m\u001b[1;33m,\u001b[0m \u001b[0mold\u001b[0m\u001b[1;33m,\u001b[0m \u001b[0mnew\u001b[0m\u001b[1;33m)\u001b[0m\u001b[1;33m\u001b[0m\u001b[1;33m\u001b[0m\u001b[0m\n\u001b[0m\u001b[0;32m   1117\u001b[0m         \u001b[1;32mreturn\u001b[0m \u001b[0mrv\u001b[0m\u001b[1;33m\u001b[0m\u001b[1;33m\u001b[0m\u001b[0m\n\u001b[0;32m   1118\u001b[0m \u001b[1;33m\u001b[0m\u001b[0m\n",
      "\u001b[1;32m~\\Anaconda3\\lib\\site-packages\\sympy\\core\\basic.py\u001b[0m in \u001b[0;36mfallback\u001b[1;34m(self, old, new)\u001b[0m\n\u001b[0;32m   1091\u001b[0m                     \u001b[0margs\u001b[0m\u001b[1;33m[\u001b[0m\u001b[0mi\u001b[0m\u001b[1;33m]\u001b[0m \u001b[1;33m=\u001b[0m \u001b[0marg\u001b[0m\u001b[1;33m\u001b[0m\u001b[1;33m\u001b[0m\u001b[0m\n\u001b[0;32m   1092\u001b[0m             \u001b[1;32mif\u001b[0m \u001b[0mhit\u001b[0m\u001b[1;33m:\u001b[0m\u001b[1;33m\u001b[0m\u001b[1;33m\u001b[0m\u001b[0m\n\u001b[1;32m-> 1093\u001b[1;33m                 \u001b[0mrv\u001b[0m \u001b[1;33m=\u001b[0m \u001b[0mself\u001b[0m\u001b[1;33m.\u001b[0m\u001b[0mfunc\u001b[0m\u001b[1;33m(\u001b[0m\u001b[1;33m*\u001b[0m\u001b[0margs\u001b[0m\u001b[1;33m)\u001b[0m\u001b[1;33m\u001b[0m\u001b[1;33m\u001b[0m\u001b[0m\n\u001b[0m\u001b[0;32m   1094\u001b[0m                 \u001b[0mhack2\u001b[0m \u001b[1;33m=\u001b[0m \u001b[0mhints\u001b[0m\u001b[1;33m.\u001b[0m\u001b[0mget\u001b[0m\u001b[1;33m(\u001b[0m\u001b[1;34m'hack2'\u001b[0m\u001b[1;33m,\u001b[0m \u001b[1;32mFalse\u001b[0m\u001b[1;33m)\u001b[0m\u001b[1;33m\u001b[0m\u001b[1;33m\u001b[0m\u001b[0m\n\u001b[0;32m   1095\u001b[0m                 \u001b[1;32mif\u001b[0m \u001b[0mhack2\u001b[0m \u001b[1;32mand\u001b[0m \u001b[0mself\u001b[0m\u001b[1;33m.\u001b[0m\u001b[0mis_Mul\u001b[0m \u001b[1;32mand\u001b[0m \u001b[1;32mnot\u001b[0m \u001b[0mrv\u001b[0m\u001b[1;33m.\u001b[0m\u001b[0mis_Mul\u001b[0m\u001b[1;33m:\u001b[0m  \u001b[1;31m# 2-arg hack\u001b[0m\u001b[1;33m\u001b[0m\u001b[1;33m\u001b[0m\u001b[0m\n",
      "\u001b[1;32m~\\Anaconda3\\lib\\site-packages\\sympy\\tensor\\indexed.py\u001b[0m in \u001b[0;36m__new__\u001b[1;34m(cls, base, *args, **kw_args)\u001b[0m\n\u001b[0;32m    158\u001b[0m                 \u001b[0mIndexedBase\u001b[0m \u001b[1;32mor\u001b[0m \u001b[0man\u001b[0m \u001b[0mobject\u001b[0m \u001b[1;32mwith\u001b[0m \u001b[0ma\u001b[0m \u001b[0mmethod\u001b[0m \u001b[1;32mfor\u001b[0m \u001b[0mgetting\u001b[0m\u001b[1;33m\u001b[0m\u001b[1;33m\u001b[0m\u001b[0m\n\u001b[0;32m    159\u001b[0m                 \u001b[0mitems\u001b[0m \u001b[1;33m(\u001b[0m\u001b[0mi\u001b[0m\u001b[1;33m.\u001b[0m\u001b[0me\u001b[0m\u001b[1;33m.\u001b[0m \u001b[0man\u001b[0m \u001b[0mobject\u001b[0m \u001b[1;32mwith\u001b[0m \u001b[0ma\u001b[0m\u001b[0;31m \u001b[0m\u001b[0;31m`\u001b[0m\u001b[0m__getitem__\u001b[0m\u001b[0;31m`\u001b[0m \u001b[0mmethod\u001b[0m\u001b[1;33m)\u001b[0m\u001b[1;33m.\u001b[0m\u001b[1;33m\u001b[0m\u001b[1;33m\u001b[0m\u001b[0m\n\u001b[1;32m--> 160\u001b[1;33m                 \"\"\"))\n\u001b[0m\u001b[0;32m    161\u001b[0m         \u001b[0margs\u001b[0m \u001b[1;33m=\u001b[0m \u001b[0mlist\u001b[0m\u001b[1;33m(\u001b[0m\u001b[0mmap\u001b[0m\u001b[1;33m(\u001b[0m\u001b[0msympify\u001b[0m\u001b[1;33m,\u001b[0m \u001b[0margs\u001b[0m\u001b[1;33m)\u001b[0m\u001b[1;33m)\u001b[0m\u001b[1;33m\u001b[0m\u001b[1;33m\u001b[0m\u001b[0m\n\u001b[0;32m    162\u001b[0m         \u001b[1;32mif\u001b[0m \u001b[0misinstance\u001b[0m\u001b[1;33m(\u001b[0m\u001b[0mbase\u001b[0m\u001b[1;33m,\u001b[0m \u001b[1;33m(\u001b[0m\u001b[0mNDimArray\u001b[0m\u001b[1;33m,\u001b[0m \u001b[0mIterable\u001b[0m\u001b[1;33m,\u001b[0m \u001b[0mTuple\u001b[0m\u001b[1;33m,\u001b[0m \u001b[0mMatrixBase\u001b[0m\u001b[1;33m)\u001b[0m\u001b[1;33m)\u001b[0m \u001b[1;32mand\u001b[0m \u001b[0mall\u001b[0m\u001b[1;33m(\u001b[0m\u001b[1;33m[\u001b[0m\u001b[0mi\u001b[0m\u001b[1;33m.\u001b[0m\u001b[0mis_number\u001b[0m \u001b[1;32mfor\u001b[0m \u001b[0mi\u001b[0m \u001b[1;32min\u001b[0m \u001b[0margs\u001b[0m\u001b[1;33m]\u001b[0m\u001b[1;33m)\u001b[0m\u001b[1;33m:\u001b[0m\u001b[1;33m\u001b[0m\u001b[1;33m\u001b[0m\u001b[0m\n",
      "\u001b[1;31mTypeError\u001b[0m: \nThe base can only be replaced with a string, Symbol, IndexedBase or an\nobject with a method for getting items (i.e. an object with a\n`__getitem__` method)."
     ]
    }
   ],
   "source": [
    "gamma = IndexedBase('gamma')\n",
    "om_relS = om_rel\n",
    "om_relR = om_rel\n",
    "s_idx = symbols('(s)')\n",
    "r_idx = symbols('(r)')\n",
    "\n",
    "pars = [X, B, tau, zeta, Sigma, F, mu, omega, P, Omega, sigma, f, x, m_n, b, t, omega_0, c, k, m, rho, V]\n",
    "PI_s = zeros(len(PI), 1)\n",
    "PI_r = zeros(len(PI), 1)\n",
    "\n",
    "for i in range(len(PI)):\n",
    "    for q in pars:\n",
    "        PI_s[i] = PI[i].subs(q, q[s_idx])\n",
    "        PI_r[i] = PI[i].subs(q, q[r_idx])\n",
    "        om_relS = om_relS.subs(q, q[s_idx])\n",
    "        om_relR = om_relR.subs(q, q[r_idx])\n",
    "\n",
    "display(PI_s, om_relS, om_relR)\n"
   ]
  }
 ],
 "metadata": {
  "kernelspec": {
   "display_name": "Python 3",
   "language": "python",
   "name": "python3"
  },
  "language_info": {
   "codemirror_mode": {
    "name": "ipython",
    "version": 3
   },
   "file_extension": ".py",
   "mimetype": "text/x-python",
   "name": "python",
   "nbconvert_exporter": "python",
   "pygments_lexer": "ipython3",
   "version": "3.7.6-final"
  }
 },
 "nbformat": 4,
 "nbformat_minor": 4
}