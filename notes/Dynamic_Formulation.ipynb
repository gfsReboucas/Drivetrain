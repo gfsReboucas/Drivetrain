{
 "cells": [
  {
   "cell_type": "code",
   "execution_count": 1,
   "metadata": {},
   "outputs": [],
   "source": [
    "from sympy import *\n",
    "from sympy.abc import i\n",
    "from sympy.solvers.solveset import linear_coeffs\n",
    "import sympy.physics.mechanics as me\n",
    "\n",
    "from mpl_toolkits.mplot3d import Axes3D\n",
    "import matplotlib.pyplot as plt\n",
    "from matplotlib import cm\n",
    "import numpy as np\n",
    "\n",
    "init_printing()\n",
    "\n",
    "def symb(x, y, z = ''):\n",
    "    return symbols('{0}_{1}{2}'.format(x, y, z), type = float)"
   ]
  },
  {
   "cell_type": "markdown",
   "metadata": {},
   "source": [
    "# Dynamic Formulation\n",
    "Writing the equations of motion and integrating the controller in a generic form.\n",
    "\n",
    "## Equations of motion\n",
    "The symbols are:\n",
    "- $M$ inertia matrix.\n",
    "- $\\bar{D}$ damping matrix.\n",
    "- $G$ gyroscopic matrix.\n",
    "- $K_m$ mesh stiffness matrix.\n",
    "- $K_b$ bearing stiffness matrix.\n",
    "- $K_{\\Omega}$ centripetal stiffness matrix.\n",
    "- $\\bar{c}$ centripetal acceleration vector.\n",
    "- $f(t)$ load vector.\n",
    "- $\\bar{B}_f$ load allocation matrix."
   ]
  },
  {
   "cell_type": "code",
   "execution_count": 2,
   "metadata": {},
   "outputs": [
    {
     "data": {
      "image/png": "[encoded data removed]",
      "text/latex": [
       "$\\displaystyle M \\frac{d^{2}}{d t^{2}} q{\\left(t \\right)} + \\left(G \\Omega_{c} + \\bar{D}\\right) \\frac{d}{d t} q{\\left(t \\right)} + \\left(- K_{\\Omega} \\Omega_{c}^{2} + K_{b} + K_{m}\\right) q{\\left(t \\right)} = \\Omega_{c}^{2} \\bar{c} + \\bar{B}_f \\bar{f}{\\left(t \\right)}$"
      ],
      "text/plain": [
       "    2                                                                         \n",
       "   d                            d          ⎛         2           ⎞           2\n",
       "M⋅───(q(t)) + (G⋅Ω_c + \\bar{D})⋅──(q(t)) + ⎝- K_Ω⋅Ω_c  + K_b + Kₘ⎠⋅q(t) = Ω_c \n",
       "    2                           dt                                            \n",
       "  dt                                                                          \n",
       "\n",
       "                               \n",
       "                               \n",
       "⋅\\bar{c} + \\bar{B}_f⋅\\bar{f}(t)\n",
       "                               \n",
       "                               "
      ]
     },
     "metadata": {},
     "output_type": "display_data"
    }
   ],
   "source": [
    "t = symbols('t')\n",
    "q = Function('q')(t)\n",
    "M = symbols('M')\n",
    "G = symbols('G')\n",
    "D_bar = symbols('\\\\bar{D}')\n",
    "K_b = symbols('K_b')\n",
    "K_m = symbols('K_m')\n",
    "K_Om = symbols('K_Omega')\n",
    "Om_c = symbols('Omega_c')\n",
    "f_bar = Function(\"\\\\bar{f}\")(t)\n",
    "B_barf = symbols('\\\\bar{B}_f')\n",
    "c_bar = symbols('\\\\bar{c}')\n",
    "\n",
    "eom_lhs = M*q.diff(t,2) + (D_bar + Om_c*G)*q.diff(t) + (K_m + K_b - Om_c**2 * K_Om)*q\n",
    "eom_rhs = Om_c**2 * c_bar + B_barf * f_bar\n",
    "\n",
    "EOM = Eq(eom_lhs, eom_rhs)\n",
    "display(EOM)"
   ]
  },
  {
   "cell_type": "code",
   "execution_count": 3,
   "metadata": {},
   "outputs": [
    {
     "data": {
      "image/png": "[encoded data removed]",
      "text/latex": [
       "$\\displaystyle M \\frac{d^{2}}{d t^{2}} q{\\left(t \\right)} + D{\\left(\\Omega_{c} \\right)} \\frac{d}{d t} q{\\left(t \\right)} + K{\\left(\\Omega_{c} \\right)} q{\\left(t \\right)} = \\Omega_{c}^{2} \\bar{c} + \\bar{B}_f \\bar{f}{\\left(t \\right)}$"
      ],
      "text/plain": [
       "    2                                                                         \n",
       "   d                 d                           2                            \n",
       "M⋅───(q(t)) + D(Ω_c)⋅──(q(t)) + K(Ω_c)⋅q(t) = Ω_c ⋅\\bar{c} + \\bar{B}_f⋅\\bar{f}\n",
       "    2                dt                                                       \n",
       "  dt                                                                          \n",
       "\n",
       "   \n",
       "   \n",
       "(t)\n",
       "   \n",
       "   "
      ]
     },
     "metadata": {},
     "output_type": "display_data"
    }
   ],
   "source": [
    "D = Function('D')(Om_c)\n",
    "K = Function('K')(Om_c)\n",
    "\n",
    "EOM = EOM.subs([(D_bar + Om_c*G            , D),\n",
    "                (K_m + K_b - Om_c**2 * K_Om, K)])\n",
    "display(EOM)"
   ]
  },
  {
   "cell_type": "markdown",
   "metadata": {},
   "source": [
    "## Generator torque\n",
    "Rewriting the load terms:"
   ]
  },
  {
   "cell_type": "code",
   "execution_count": 4,
   "metadata": {},
   "outputs": [
    {
     "data": {
      "image/png": "[encoded data removed]",
      "text/latex": [
       "$\\displaystyle M \\frac{d^{2}}{d t^{2}} q{\\left(t \\right)} + D{\\left(\\Omega_{c} \\right)} \\frac{d}{d t} q{\\left(t \\right)} + K{\\left(\\Omega_{c} \\right)} q{\\left(t \\right)} = \\Omega_{c}^{2} \\bar{c} + b_{A} \\operatorname{T_{A}}{\\left(t \\right)} + b_{G} \\operatorname{T_{G}}{\\left(t \\right)}$"
      ],
      "text/plain": [
       "    2                                                                         \n",
       "   d                 d                           2                            \n",
       "M⋅───(q(t)) + D(Ω_c)⋅──(q(t)) + K(Ω_c)⋅q(t) = Ω_c ⋅\\bar{c} + b_A⋅T_A(t) + b_G⋅\n",
       "    2                dt                                                       \n",
       "  dt                                                                          \n",
       "\n",
       "      \n",
       "      \n",
       "T_G(t)\n",
       "      \n",
       "      "
      ]
     },
     "metadata": {},
     "output_type": "display_data"
    },
    {
     "data": {
      "image/png": "[encoded data removed]",
      "text/latex": [
       "$\\displaystyle \\bar{B}_f \\bar{f}{\\left(t \\right)} = b_{A} \\operatorname{T_{A}}{\\left(t \\right)} + b_{G} \\operatorname{T_{G}}{\\left(t \\right)}$"
      ],
      "text/plain": [
       "\\bar{B}_f⋅\\bar{f}(t) = b_A⋅T_A(t) + b_G⋅T_G(t)"
      ]
     },
     "metadata": {},
     "output_type": "display_data"
    }
   ],
   "source": [
    "T_A = Function('T_A')(t)\n",
    "b_A = symbols('b_A')\n",
    "T_gen = Function('T_G')(t)\n",
    "b_G = symbols('b_G')\n",
    "\n",
    "load_eq = Eq(B_barf * f_bar, b_G * T_gen  + b_A * T_A)\n",
    "EOM = EOM.subs(load_eq.lhs, load_eq.rhs)\n",
    "display(EOM, load_eq)"
   ]
  },
  {
   "cell_type": "markdown",
   "metadata": {},
   "source": [
    "The PI controller can be written as:"
   ]
  },
  {
   "cell_type": "code",
   "execution_count": 5,
   "metadata": {},
   "outputs": [
    {
     "data": {
      "image/png": "[encoded data removed]",
      "text/latex": [
       "$\\displaystyle \\operatorname{T_{G}}{\\left(t \\right)} = K_{P} e{\\left(t \\right)} + v{\\left(t \\right)}$"
      ],
      "text/plain": [
       "T_G(t) = K_P⋅e(t) + v(t)"
      ]
     },
     "metadata": {},
     "output_type": "display_data"
    },
    {
     "data": {
      "image/png": "[encoded data removed]",
      "text/latex": [
       "$\\displaystyle v{\\left(t \\right)} = K_{I} \\int\\limits_{0}^{t} e{\\left(\\tau \\right)}\\, d\\tau$"
      ],
      "text/plain": [
       "           t        \n",
       "           ⌠        \n",
       "v(t) = K_I⋅⎮ e(τ) dτ\n",
       "           ⌡        \n",
       "           0        "
      ]
     },
     "metadata": {},
     "output_type": "display_data"
    },
    {
     "data": {
      "image/png": "[encoded data removed]",
      "text/latex": [
       "$\\displaystyle \\frac{d}{d t} v{\\left(t \\right)} = K_{I} e{\\left(t \\right)}$"
      ],
      "text/plain": [
       "d                  \n",
       "──(v(t)) = K_I⋅e(t)\n",
       "dt                 "
      ]
     },
     "metadata": {},
     "output_type": "display_data"
    }
   ],
   "source": [
    "e = Function('e')(t)\n",
    "v = Function('v')(t)\n",
    "K_P = symbols('K_P')\n",
    "K_I = symbols('K_I')\n",
    "tau = symbols('tau')\n",
    "\n",
    "eq_v = Eq(v, K_I * integrate(e.subs(t, tau), (tau, 0, t)))\n",
    "eq_vdot = Eq(eq_v.lhs.diff(t), eq_v.rhs.diff(t))\n",
    "eq_gen = Eq(T_gen, K_P*e + v)\n",
    "display(eq_gen, eq_v, eq_vdot)"
   ]
  },
  {
   "cell_type": "markdown",
   "metadata": {},
   "source": [
    "The error can be represented as:"
   ]
  },
  {
   "cell_type": "code",
   "execution_count": 6,
   "metadata": {},
   "outputs": [
    {
     "data": {
      "image/png": "[encoded data removed]",
      "text/latex": [
       "$\\displaystyle e{\\left(t \\right)} = - \\omega_{G}{\\left(t \\right)} + \\omega_{R}{\\left(t \\right)}$"
      ],
      "text/plain": [
       "e(t) = -ω_G(t) + ω_R(t)"
      ]
     },
     "metadata": {},
     "output_type": "display_data"
    },
    {
     "data": {
      "image/png": "[encoded data removed]",
      "text/latex": [
       "$\\displaystyle \\omega_{G}{\\left(t \\right)} = C_{G} \\frac{d}{d t} q{\\left(t \\right)}$"
      ],
      "text/plain": [
       "             d       \n",
       "ω_G(t) = C_G⋅──(q(t))\n",
       "             dt      "
      ]
     },
     "metadata": {},
     "output_type": "display_data"
    },
    {
     "data": {
      "image/png": "[encoded data removed]",
      "text/latex": [
       "$\\displaystyle e{\\left(t \\right)} = - C_{G} \\frac{d}{d t} q{\\left(t \\right)} + \\omega_{R}{\\left(t \\right)}$"
      ],
      "text/plain": [
       "             d                \n",
       "e(t) = - C_G⋅──(q(t)) + ω_R(t)\n",
       "             dt               "
      ]
     },
     "metadata": {},
     "output_type": "display_data"
    },
    {
     "data": {
      "image/png": "[encoded data removed]",
      "text/latex": [
       "$\\displaystyle \\frac{d}{d t} v{\\left(t \\right)} = K_{I} \\left(- C_{G} \\frac{d}{d t} q{\\left(t \\right)} + \\omega_{R}{\\left(t \\right)}\\right)$"
      ],
      "text/plain": [
       "d              ⎛      d                ⎞\n",
       "──(v(t)) = K_I⋅⎜- C_G⋅──(q(t)) + ω_R(t)⎟\n",
       "dt             ⎝      dt               ⎠"
      ]
     },
     "metadata": {},
     "output_type": "display_data"
    },
    {
     "data": {
      "image/png": "[encoded data removed]",
      "text/latex": [
       "$\\displaystyle \\operatorname{T_{G}}{\\left(t \\right)} = K_{P} \\left(- C_{G} \\frac{d}{d t} q{\\left(t \\right)} + \\omega_{R}{\\left(t \\right)}\\right) + v{\\left(t \\right)}$"
      ],
      "text/plain": [
       "             ⎛      d                ⎞       \n",
       "T_G(t) = K_P⋅⎜- C_G⋅──(q(t)) + ω_R(t)⎟ + v(t)\n",
       "             ⎝      dt               ⎠       "
      ]
     },
     "metadata": {},
     "output_type": "display_data"
    }
   ],
   "source": [
    "om_R = Function('omega_R')(t)\n",
    "om_G = Function('omega_G')(t)\n",
    "C_G = symbols('C_G')\n",
    "\n",
    "eq_omG = Eq(om_G, C_G * q.diff(t))\n",
    "eq_error = Eq(e, om_R - om_G)\n",
    "display(eq_error)\n",
    "\n",
    "eq_error = eq_error.subs([(eq_omG.lhs, eq_omG.rhs)])\n",
    "display(eq_omG,eq_error)\n",
    "\n",
    "eq_vdot = eq_vdot.subs([(eq_error.lhs, eq_error.rhs)])\n",
    "eq_gen  = eq_gen.subs([(eq_error.lhs, eq_error.rhs)])\n",
    "display(eq_vdot, eq_gen)"
   ]
  },
  {
   "cell_type": "code",
   "execution_count": 7,
   "metadata": {},
   "outputs": [
    {
     "data": {
      "image/png": "[encoded data removed]",
      "text/latex": [
       "$\\displaystyle M \\frac{d^{2}}{d t^{2}} q{\\left(t \\right)} + \\left(C_{G} K_{P} b_{G} + D{\\left(\\Omega_{c} \\right)}\\right) \\frac{d}{d t} q{\\left(t \\right)} + K{\\left(\\Omega_{c} \\right)} q{\\left(t \\right)} = K_{P} b_{G} \\omega_{R}{\\left(t \\right)} + \\Omega_{c}^{2} \\bar{c} + b_{A} \\operatorname{T_{A}}{\\left(t \\right)} + b_{G} v{\\left(t \\right)}$"
      ],
      "text/plain": [
       "    2                                                                         \n",
       "   d                                 d                                        \n",
       "M⋅───(q(t)) + (C_G⋅K_P⋅b_G + D(Ω_c))⋅──(q(t)) + K(Ω_c)⋅q(t) = K_P⋅b_G⋅ω_R(t) +\n",
       "    2                                dt                                       \n",
       "  dt                                                                          \n",
       "\n",
       "                                     \n",
       "    2                                \n",
       " Ω_c ⋅\\bar{c} + b_A⋅T_A(t) + b_G⋅v(t)\n",
       "                                     \n",
       "                                     "
      ]
     },
     "metadata": {},
     "output_type": "display_data"
    },
    {
     "data": {
      "image/png": "[encoded data removed]",
      "text/latex": [
       "$\\displaystyle \\frac{d}{d t} v{\\left(t \\right)} = K_{I} \\left(- C_{G} \\frac{d}{d t} q{\\left(t \\right)} + \\omega_{R}{\\left(t \\right)}\\right)$"
      ],
      "text/plain": [
       "d              ⎛      d                ⎞\n",
       "──(v(t)) = K_I⋅⎜- C_G⋅──(q(t)) + ω_R(t)⎟\n",
       "dt             ⎝      dt               ⎠"
      ]
     },
     "metadata": {},
     "output_type": "display_data"
    }
   ],
   "source": [
    "EOM = EOM.subs(eq_gen.lhs, eq_gen.rhs)\n",
    "coeff_vel = expand(EOM.rhs).coeff(q.diff(t))\n",
    "eom_lhs = simplify(EOM.lhs - coeff_vel*q.diff(t))\n",
    "eom_lhs = collect(eom_lhs, q)\n",
    "eom_rhs = simplify(EOM.rhs - coeff_vel*q.diff(t))\n",
    "EOM = Eq(eom_lhs, eom_rhs)\n",
    "\n",
    "display(EOM, eq_vdot)"
   ]
  },
  {
   "cell_type": "code",
   "execution_count": 8,
   "metadata": {},
   "outputs": [
    {
     "data": {
      "image/png": "[encoded data removed]",
      "text/latex": [
       "$\\displaystyle M \\frac{d}{d t} \\operatorname{x_{1}}{\\left(t \\right)} = M \\operatorname{x_{2}}{\\left(t \\right)}$"
      ],
      "text/plain": [
       "  d                  \n",
       "M⋅──(x₁(t)) = M⋅x₂(t)\n",
       "  dt                 "
      ]
     },
     "metadata": {},
     "output_type": "display_data"
    },
    {
     "data": {
      "image/png": "[encoded data removed]",
      "text/latex": [
       "$\\displaystyle M \\frac{d}{d t} \\operatorname{x_{2}}{\\left(t \\right)} = K_{P} b_{G} \\omega_{R}{\\left(t \\right)} + \\Omega_{c}^{2} \\bar{c} + b_{A} \\operatorname{T_{A}}{\\left(t \\right)} + b_{G} v{\\left(t \\right)} - \\left(C_{G} K_{P} b_{G} + D{\\left(\\Omega_{c} \\right)}\\right) \\operatorname{x_{2}}{\\left(t \\right)} - K{\\left(\\Omega_{c} \\right)} \\operatorname{x_{1}}{\\left(t \\right)}$"
      ],
      "text/plain": [
       "  d                               2                                           \n",
       "M⋅──(x₂(t)) = K_P⋅b_G⋅ω_R(t) + Ω_c ⋅\\bar{c} + b_A⋅T_A(t) + b_G⋅v(t) - (C_G⋅K_P\n",
       "  dt                                                                          \n",
       "\n",
       "                                   \n",
       "⋅b_G + D(Ω_c))⋅x₂(t) - K(Ω_c)⋅x₁(t)\n",
       "                                   "
      ]
     },
     "metadata": {},
     "output_type": "display_data"
    },
    {
     "data": {
      "image/png": "[encoded data removed]",
      "text/latex": [
       "$\\displaystyle \\frac{d}{d t} v{\\left(t \\right)} = K_{I} \\left(- C_{G} \\operatorname{x_{2}}{\\left(t \\right)} + \\omega_{R}{\\left(t \\right)}\\right)$"
      ],
      "text/plain": [
       "d                                   \n",
       "──(v(t)) = K_I⋅(-C_G⋅x₂(t) + ω_R(t))\n",
       "dt                                  "
      ]
     },
     "metadata": {},
     "output_type": "display_data"
    }
   ],
   "source": [
    "x_1 = Function('x_1')(t)\n",
    "x_2 = Function('x_2')(t)\n",
    "\n",
    "EOM_ss = EOM.subs([(q.diff(t, 2), x_2.diff(t)), \n",
    "                   (q.diff(t)   , x_2),\n",
    "                   (q           , x_1)])\n",
    "coeff_x1 = EOM_ss.lhs.coeff(x_1)\n",
    "coeff_x2 = EOM_ss.lhs.coeff(x_2)\n",
    "EOM_ss = Eq(EOM_ss.lhs - coeff_x1*x_1 - coeff_x2* x_2,\n",
    "            EOM_ss.rhs - coeff_x1*x_1 - coeff_x2* x_2)\n",
    "eq_extra = Eq(M*x_1.diff(t), M*x_2)\n",
    "eq_vdotX = eq_vdot.subs(q.diff(t)   , x_2)\n",
    "display(eq_extra,EOM_ss, eq_vdotX)\n"
   ]
  },
  {
   "cell_type": "code",
   "execution_count": 9,
   "metadata": {},
   "outputs": [
    {
     "data": {
      "text/latex": [
       "$\\displaystyle \\left[\\begin{matrix}M & 0 & 0\\\\0 & M & 0\\\\0 & 0 & 1\\end{matrix}\\right]$"
      ],
      "text/plain": [
       "⎡M  0  0⎤\n",
       "⎢       ⎥\n",
       "⎢0  M  0⎥\n",
       "⎢       ⎥\n",
       "⎣0  0  1⎦"
      ]
     },
     "metadata": {},
     "output_type": "display_data"
    },
    {
     "data": {
      "text/latex": [
       "$\\displaystyle \\left[\\begin{matrix}0 & M & 0\\\\- K{\\left(\\Omega_{c} \\right)} & - (C_{G} K_{P} b_{G} + D{\\left(\\Omega_{c} \\right)}) & b_{G}\\\\0 & - C_{G} K_{I} & 0\\end{matrix}\\right]$"
      ],
      "text/plain": [
       "⎡   0                M              0 ⎤\n",
       "⎢                                     ⎥\n",
       "⎢-K(Ω_c)  -(C_G⋅K_P⋅b_G + D(Ω_c))  b_G⎥\n",
       "⎢                                     ⎥\n",
       "⎣   0            -C_G⋅K_I           0 ⎦"
      ]
     },
     "metadata": {},
     "output_type": "display_data"
    },
    {
     "data": {
      "text/latex": [
       "$\\displaystyle \\left[\\begin{matrix}0\\\\K_{P} b_{G} \\omega_{R}{\\left(t \\right)} + \\Omega_{c}^{2} \\bar{c} + b_{A} \\operatorname{T_{A}}{\\left(t \\right)}\\\\K_{I} \\omega_{R}{\\left(t \\right)}\\end{matrix}\\right]$"
      ],
      "text/plain": [
       "⎡                    0                     ⎤\n",
       "⎢                                          ⎥\n",
       "⎢                    2                     ⎥\n",
       "⎢K_P⋅b_G⋅ω_R(t) + Ω_c ⋅\\bar{c} + b_A⋅T_A(t)⎥\n",
       "⎢                                          ⎥\n",
       "⎣                K_I⋅ω_R(t)                ⎦"
      ]
     },
     "metadata": {},
     "output_type": "display_data"
    }
   ],
   "source": [
    "def coeff_matrix(equations, *symbols):\n",
    "    # adapted from the source code of sympy.linear_eq_to_matrix(equations, *symbols)\n",
    "    A , b = [], []\n",
    "    for i, f in enumerate(equations):\n",
    "        coeff_list = linear_coeffs(f, *symbols)\n",
    "        b.append(-coeff_list.pop())\n",
    "        A.append(coeff_list)\n",
    "\n",
    "    A, b = map(Matrix, (A, b))\n",
    "\n",
    "    return A, b\n",
    "\n",
    "AA, bb = coeff_matrix([eq_extra.lhs ,EOM_ss.lhs, eq_vdotX.lhs], x_1.diff(t), x_2.diff(t), v.diff(t))\n",
    "BB, cc = coeff_matrix([eq_extra.rhs ,EOM_ss.rhs, eq_vdotX.rhs], x_1        , x_2        , v)\n",
    "\n",
    "cc = -cc\n",
    "display(AA)\n",
    "display(BB,cc)\n"
   ]
  },
  {
   "cell_type": "markdown",
   "metadata": {},
   "source": [
    "## Frequency domain analysis"
   ]
  },
  {
   "cell_type": "code",
   "execution_count": 10,
   "metadata": {},
   "outputs": [],
   "source": [
    "def laplace(e, t, s):\n",
    "    # taken from: (12/10/2020)\n",
    "    # https://github.com/sympy/sympy/issues/7219#issuecomment-433698014\n",
    "    res = laplace_transform(e, t, s, noconds=True)\n",
    "    wf = Wild('f')\n",
    "    lw = LaplaceTransform(wf, t, s)\n",
    "\n",
    "    for exp in res.find(lw):\n",
    "        e = exp.match(lw)[wf]\n",
    "        args = e.args\n",
    "\n",
    "        if isinstance(e, Derivative):\n",
    "            # for derivative check that there's only d/dt^n with n>0\n",
    "            if len(args) == 2 and args[1][0] == t:\n",
    "                n = args[1][1]\n",
    "                if n > 0:\n",
    "                    newexp = s**n * LaplaceTransform(e.args[0], t, s)\n",
    "                res = res.replace(exp, newexp)\n",
    "\n",
    "        elif isinstance(e, Integral):\n",
    "            # for integral check that there's only n consecutive indefinite integrals w.r.t. t\n",
    "            if all(len(arg) == 1 and arg[0] == t for arg in args[1:]):\n",
    "                newexp = s**(-len(args[1:])) * LaplaceTransform(args[0], t, s)\n",
    "                res = res.replace(exp, newexp)\n",
    "\n",
    "        # otherwise don't do anything\n",
    "\n",
    "    return res"
   ]
  },
  {
   "cell_type": "code",
   "execution_count": 11,
   "metadata": {},
   "outputs": [
    {
     "data": {
      "image/png": "[encoded data removed]",
      "text/latex": [
       "$\\displaystyle V{\\left(s \\right)} = \\frac{- C_{G} K_{I} s Q{\\left(s \\right)} + K_{I} R{\\left(s \\right)}}{s}$"
      ],
      "text/plain": [
       "       -C_G⋅K_I⋅s⋅Q(s) + K_I⋅R(s)\n",
       "V(s) = ──────────────────────────\n",
       "                   s             "
      ]
     },
     "metadata": {},
     "output_type": "display_data"
    }
   ],
   "source": [
    "s = symbols('s')\n",
    "Y = Function('Y')(s)\n",
    "Q = Function('Q')(s)\n",
    "V = Function('V')(s)\n",
    "R = Function('R')(s)\n",
    "\n",
    "eq_vL = Eq(laplace(eq_vdot.lhs, t, s), laplace(eq_vdot.rhs, t, s))\n",
    "eq_vL = eq_vL.subs([(laplace_transform(q   , t, s), Q),\n",
    "                    (laplace_transform(v   , t, s), V),\n",
    "                    (laplace_transform(om_R, t, s), R)])\n",
    "eq_vL = Eq(eq_vL.lhs/s, eq_vL.rhs/s)                    \n",
    "display(eq_vL)"
   ]
  },
  {
   "cell_type": "code",
   "execution_count": 12,
   "metadata": {},
   "outputs": [
    {
     "data": {
      "image/png": "[encoded data removed]",
      "text/latex": [
       "$\\displaystyle Q{\\left(s \\right)} = \\frac{\\frac{K_{I} b_{G} R{\\left(s \\right)}}{s} + K_{P} b_{G} R{\\left(s \\right)} + \\frac{\\Omega_{c}^{2} \\bar{c}}{s} + b_{A} A{\\left(s \\right)}}{H{\\left(s \\right)}}$"
      ],
      "text/plain": [
       "                                        2                   \n",
       "       K_I⋅b_G⋅R(s)                  Ω_c ⋅\\bar{c}           \n",
       "       ──────────── + K_P⋅b_G⋅R(s) + ──────────── + b_A⋅A(s)\n",
       "            s                             s                 \n",
       "Q(s) = ─────────────────────────────────────────────────────\n",
       "                                H(s)                        "
      ]
     },
     "metadata": {},
     "output_type": "display_data"
    },
    {
     "data": {
      "image/png": "[encoded data removed]",
      "text/latex": [
       "$\\displaystyle C_{G} K_{I} b_{G} + M s^{2} + s \\left(C_{G} K_{P} b_{G} + D{\\left(\\Omega_{c} \\right)}\\right) + K{\\left(\\Omega_{c} \\right)} = H{\\left(s \\right)}$"
      ],
      "text/plain": [
       "                 2                                           \n",
       "C_G⋅K_I⋅b_G + M⋅s  + s⋅(C_G⋅K_P⋅b_G + D(Ω_c)) + K(Ω_c) = H(s)"
      ]
     },
     "metadata": {},
     "output_type": "display_data"
    }
   ],
   "source": [
    "A = Function('A')(s)\n",
    "H = Function('H')(s)\n",
    "\n",
    "EOM_L = simplify(Eq(laplace(EOM.lhs, t, s), laplace(EOM.rhs, t, s)))\n",
    "EOM_L = EOM_L.subs([(laplace_transform(q   , t, s), Q),\n",
    "                    (laplace_transform(T_A , t, s), A),\n",
    "                    (laplace_transform(om_R, t, s), R),\n",
    "                    (laplace_transform(v   , t, s), eq_vL.rhs)])\n",
    "Qtmp = expand(EOM_L.rhs).coeff(Q)*Q\n",
    "EOM_L = simplify(Eq(EOM_L.lhs - Qtmp, EOM_L.rhs - Qtmp))\n",
    "H_rel = Eq(EOM_L.lhs.coeff(Q), H)\n",
    "\n",
    "EOM_L = EOM_L.subs([(H_rel.lhs, H_rel.rhs)])\n",
    "EOM_L = Eq(EOM_L.lhs/H, EOM_L.rhs/H)\n",
    "H_rel = Eq(collect(H_rel.lhs, s), H_rel.rhs)\n",
    "\n",
    "display(EOM_L, H_rel)"
   ]
  },
  {
   "cell_type": "code",
   "execution_count": 13,
   "metadata": {},
   "outputs": [
    {
     "data": {
      "image/png": "[encoded data removed]",
      "text/latex": [
       "$\\displaystyle \\frac{Y{\\left(s \\right)}}{C_{G} s} = Q{\\left(s \\right)}$"
      ],
      "text/plain": [
       " Y(s)       \n",
       "───── = Q(s)\n",
       "C_G⋅s       "
      ]
     },
     "metadata": {},
     "output_type": "display_data"
    },
    {
     "data": {
      "image/png": "[encoded data removed]",
      "text/latex": [
       "$\\displaystyle Y{\\left(s \\right)} = \\frac{C_{G} s \\left(\\frac{K_{I} b_{G} R{\\left(s \\right)}}{s} + K_{P} b_{G} R{\\left(s \\right)} + \\frac{\\Omega_{c}^{2} \\bar{c}}{s} + b_{A} A{\\left(s \\right)}\\right)}{H{\\left(s \\right)}}$"
      ],
      "text/plain": [
       "             ⎛                                 2                   ⎞\n",
       "             ⎜K_I⋅b_G⋅R(s)                  Ω_c ⋅\\bar{c}           ⎟\n",
       "       C_G⋅s⋅⎜──────────── + K_P⋅b_G⋅R(s) + ──────────── + b_A⋅A(s)⎟\n",
       "             ⎝     s                             s                 ⎠\n",
       "Y(s) = ─────────────────────────────────────────────────────────────\n",
       "                                    H(s)                            "
      ]
     },
     "metadata": {},
     "output_type": "display_data"
    }
   ],
   "source": [
    "eq_omGL = Eq(laplace(eq_omG.lhs, t, s),laplace(eq_omG.rhs, t, s))\n",
    "eq_omGL = eq_omGL.subs([(laplace_transform(q   , t, s), Q),\n",
    "                        (laplace_transform(om_G, t, s), Y)])\n",
    "Q_tmp = eq_omGL.rhs.coeff(Q)\n",
    "eq_omGL = Eq(eq_omGL.lhs/Q_tmp, eq_omGL.rhs/Q_tmp)\n",
    "display(eq_omGL)\n",
    "\n",
    "EOM_L = EOM_L.subs([(eq_omGL.rhs, eq_omGL.lhs)])\n",
    "Y_tmp = EOM_L.lhs.coeff(Y)\n",
    "EOM_L = Eq(EOM_L.lhs/Y_tmp, EOM_L.rhs/Y_tmp)\n",
    "\n",
    "display(EOM_L)"
   ]
  },
  {
   "cell_type": "code",
   "execution_count": 14,
   "metadata": {},
   "outputs": [
    {
     "data": {
      "image/png": "[encoded data removed]",
      "text/latex": [
       "$\\displaystyle \\frac{C_{G} b_{A} s}{H{\\left(s \\right)}}$"
      ],
      "text/plain": [
       "C_G⋅b_A⋅s\n",
       "─────────\n",
       "   H(s)  "
      ]
     },
     "metadata": {},
     "output_type": "display_data"
    },
    {
     "data": {
      "image/png": "[encoded data removed]",
      "text/latex": [
       "$\\displaystyle \\frac{C_{G} b_{G} \\left(K_{I} + K_{P} s\\right)}{H{\\left(s \\right)}}$"
      ],
      "text/plain": [
       "C_G⋅b_G⋅(K_I + K_P⋅s)\n",
       "─────────────────────\n",
       "         H(s)        "
      ]
     },
     "metadata": {},
     "output_type": "display_data"
    }
   ],
   "source": [
    "TF_R = expand(EOM_L.rhs).coeff(R)\n",
    "TF_R = simplify(TF_R)\n",
    "\n",
    "TF_A = expand(EOM_L.rhs).coeff(A)\n",
    "TF_A = simplify(TF_A)\n",
    "\n",
    "display(TF_A, TF_R)"
   ]
  }
 ],
 "metadata": {
  "kernelspec": {
   "display_name": "Python 3",
   "language": "python",
   "name": "python3"
  },
  "language_info": {
   "codemirror_mode": {
    "name": "ipython",
    "version": 3
   },
   "file_extension": ".py",
   "mimetype": "text/x-python",
   "name": "python",
   "nbconvert_exporter": "python",
   "pygments_lexer": "ipython3",
   "version": "3.8.3"
  }
 },
 "nbformat": 4,
 "nbformat_minor": 2
}
