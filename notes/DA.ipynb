{
 "cells": [
  {
   "cell_type": "code",
   "execution_count": 1,
   "metadata": {},
   "outputs": [],
   "source": [
    "from sympy import *\n",
    "from sympy.solvers.solveset import linear_coeffs\n",
    "import sympy.physics.mechanics as me\n",
    "import numpy as np\n",
    "\n",
    "init_printing()\n",
    "\n",
    "def symb(x, y, z = ''):\n",
    "    return symbols('{0}_{1}{2}'.format(x, y, z), type = float)\n",
    "\n",
    "def apply2Eq(fun, eq):\n",
    "    return Eq(fun(eq.lhs), fun(eq.rhs))\n"
   ]
  },
  {
   "source": [
    "First, define variables:"
   ],
   "cell_type": "markdown",
   "metadata": {}
  },
  {
   "cell_type": "code",
   "execution_count": 2,
   "metadata": {},
   "outputs": [],
   "source": [
    "X       = IndexedBase('X') # [-], non-dimensional displacement\n",
    "B       = IndexedBase('B') # [-], non-dimensional face width\n",
    "tau     = IndexedBase('tau') # [-], non-dimensional time\n",
    "zeta    = IndexedBase('zeta') # [-], damping ratio\n",
    "Sigma   = IndexedBase('Sigma') # [-], non-dimensional stress\n",
    "F       = IndexedBase('F') # [-], non-dimensional force\n",
    "mu      = IndexedBase('mu') # [-], non-dimensional force from stress\n",
    "omega   = IndexedBase('omega') # [-], non-dimensional rotation speed\n",
    "P       = IndexedBase('P') # [kW], power\n",
    "Omega   = IndexedBase('Omega') # [RPM], rotation speed\n",
    "sigma   = IndexedBase('sigma') # [Pa], stress\n",
    "f       = IndexedBase('f') # [N], force\n",
    "x       = IndexedBase('x') # [mm], displacement\n",
    "m_n     = IndexedBase('m_n') # [mm], normal module\n",
    "b       = IndexedBase('b') # [mm], dimensional face width\n",
    "t       = IndexedBase('t') # [s], time\n",
    "omega_0 = IndexedBase('omega_0') # [rad/s], normalizing frequency\n",
    "c       = IndexedBase('c') # [N/m/s], damping\n",
    "k       = IndexedBase('k') # [N/m], stiffness\n",
    "m       = IndexedBase('m') # [kg], mass\n",
    "rho     = IndexedBase('rho') # [kg/m**3], density\n",
    "V       = IndexedBase('V') # [m**3], volume\n",
    "\n",
    "par_nd = [X, B, tau, zeta, Sigma, F, mu, omega] # non-dimensional\n",
    "par_dd = [Omega, sigma, f, x, m_n, b, t, c, k, m, rho, omega_0, P] # dimensional\n",
    "par    = [*par_nd, *par_dd]"
   ]
  },
  {
   "source": [
    "Given the following equations:\n",
    "$$\n",
    "    m \\ddot{x} + c \\dot{x} + k x = f(t) \\\\\n",
    "    \\sigma_F = C_F \\frac{P}{\\Omega b d_1 m_n}\n",
    "$$\n",
    "The nondimensional groups are given by:"
   ],
   "cell_type": "markdown",
   "metadata": {}
  },
  {
   "cell_type": "code",
   "execution_count": 3,
   "metadata": {},
   "outputs": [
    {
     "output_type": "display_data",
     "data": {
      "text/plain": "⎡                                                                             \n⎢     x        b                          f                c             b⋅m_n\n⎢X = ───, B = ───, tau = omega_0⋅t, F = ─────, 2⋅zeta = ───────, Sigma = ─────\n⎢    m_n      m_n                       k⋅m_n             _____               \n⎣                                                       ╲╱ k⋅m                \n\n2                        2                                       ___          \n ⋅omega_0⋅sigma       m_n ⋅sigma           Omega                ╱ k           \n───────────────, mu = ──────────, omega = ───────, omega_0 =   ╱  ─ , m = π⋅b⋅\n    P                     f               omega_0            ╲╱   m           \n                                                                              \n\n        ⎤\n   2    ⎥\nm_n ⋅rho⎥\n        ⎥\n        ⎦",
      "image/png": "[encoded data removed]",
      "text/latex": "$\\displaystyle \\left[ X = \\frac{x}{m_{n}}, \\  B = \\frac{b}{m_{n}}, \\  \\tau = \\omega_{0} t, \\  F = \\frac{f}{k m_{n}}, \\  2 \\zeta = \\frac{c}{\\sqrt{k m}}, \\  \\Sigma = \\frac{b m_{n}^{2} \\omega_{0} \\sigma}{P}, \\  \\mu = \\frac{m_{n}^{2} \\sigma}{f}, \\  \\omega = \\frac{\\Omega}{\\omega_{0}}, \\  \\omega_{0} = \\sqrt{\\frac{k}{m}}, \\  m = \\pi b m_{n}^{2} \\rho\\right]$"
     },
     "metadata": {}
    }
   ],
   "source": [
    "m_rel = Eq(m, rho*pi*b*m_n**2)\n",
    "\n",
    "om_rel = Eq(omega_0, sqrt(k/m))\n",
    "# om_rel = om_rel.subs(m, rho*V)\n",
    "# om_rel = om_rel.subs(V, pi*b*m_n**2)\n",
    "\n",
    "pi1 = Eq(X, x/m_n)\n",
    "\n",
    "pi2 = Eq(B, b/m_n)\n",
    "\n",
    "pi3 = Eq(tau, omega_0*t)\n",
    "# pi3 = pi3.subs(om_rel.lhs, om_rel.rhs)\n",
    "\n",
    "pi4 = Eq(F, f/(k*m_n))\n",
    "\n",
    "pi5 = Eq(2*zeta, c/sqrt(m*k))\n",
    "# pi5 = pi5.subs(m_rel.lhs, m_rel.rhs)\n",
    "\n",
    "pi6 = Eq(Sigma, (sigma*omega_0*b*m_n**2)/P)\n",
    "# pi6 = pi6.subs(om_rel.lhs, om_rel.rhs)\n",
    "# pi6 = simplify(pi6)\n",
    "\n",
    "pi7 = Eq(mu, (sigma*m_n**2)/f)\n",
    "\n",
    "pi8 = Eq(omega, Omega/omega_0)\n",
    "# pi8 = pi8.subs(om_rel.lhs, om_rel.rhs)\n",
    "\n",
    "PI = [pi1, pi2, pi3, pi4, pi5, pi6, pi7, pi8]\n",
    "PI_rel = [*PI, om_rel, m_rel]\n",
    "\n",
    "display(PI_rel)"
   ]
  },
  {
   "source": [
    "## Scaling factors:"
   ],
   "cell_type": "markdown",
   "metadata": {}
  },
  {
   "cell_type": "code",
   "execution_count": 4,
   "metadata": {},
   "outputs": [
    {
     "output_type": "display_data",
     "data": {
      "text/plain": "log(X) = -log(m_n) + log(x)",
      "image/png": "[encoded data removed]",
      "text/latex": "$\\displaystyle \\log{\\left(X \\right)} = - \\log{\\left(m_{n} \\right)} + \\log{\\left(x \\right)}$"
     },
     "metadata": {}
    },
    {
     "output_type": "display_data",
     "data": {
      "text/plain": "log(B) = log(b) - log(m_n)",
      "image/png": "[encoded data removed]",
      "text/latex": "$\\displaystyle \\log{\\left(B \\right)} = \\log{\\left(b \\right)} - \\log{\\left(m_{n} \\right)}$"
     },
     "metadata": {}
    },
    {
     "output_type": "display_data",
     "data": {
      "text/plain": "log(tau) = log(omega_0) + log(t)",
      "image/png": "[encoded data removed]",
      "text/latex": "$\\displaystyle \\log{\\left(\\tau \\right)} = \\log{\\left(\\omega_{0} \\right)} + \\log{\\left(t \\right)}$"
     },
     "metadata": {}
    },
    {
     "output_type": "display_data",
     "data": {
      "text/plain": "log(F) = log(f) - log(k) - log(m_n)",
      "image/png": "[encoded data removed]",
      "text/latex": "$\\displaystyle \\log{\\left(F \\right)} = \\log{\\left(f \\right)} - \\log{\\left(k \\right)} - \\log{\\left(m_{n} \\right)}$"
     },
     "metadata": {}
    },
    {
     "output_type": "display_data",
     "data": {
      "text/plain": "                              log(k)   log(m)\nlog(zeta) + log(2) = log(c) - ────── - ──────\n                                2        2   ",
      "image/png": "[encoded data removed]",
      "text/latex": "$\\displaystyle \\log{\\left(\\zeta \\right)} + \\log{\\left(2 \\right)} = \\log{\\left(c \\right)} - \\frac{\\log{\\left(k \\right)}}{2} - \\frac{\\log{\\left(m \\right)}}{2}$"
     },
     "metadata": {}
    },
    {
     "output_type": "display_data",
     "data": {
      "text/plain": "log(Sigma) = -log(P) + log(b) + 2⋅log(m_n) + log(omega_0) + log(sigma)",
      "image/png": "[encoded data removed]",
      "text/latex": "$\\displaystyle \\log{\\left(\\Sigma \\right)} = - \\log{\\left(P \\right)} + \\log{\\left(b \\right)} + 2 \\log{\\left(m_{n} \\right)} + \\log{\\left(\\omega_{0} \\right)} + \\log{\\left(\\sigma \\right)}$"
     },
     "metadata": {}
    },
    {
     "output_type": "display_data",
     "data": {
      "text/plain": "log(mu) = -log(f) + 2⋅log(m_n) + log(sigma)",
      "image/png": "[encoded data removed]",
      "text/latex": "$\\displaystyle \\log{\\left(\\mu \\right)} = - \\log{\\left(f \\right)} + 2 \\log{\\left(m_{n} \\right)} + \\log{\\left(\\sigma \\right)}$"
     },
     "metadata": {}
    },
    {
     "output_type": "display_data",
     "data": {
      "text/plain": "log(omega) = log(Omega) - log(omega_0)",
      "image/png": "[encoded data removed]",
      "text/latex": "$\\displaystyle \\log{\\left(\\omega \\right)} = \\log{\\left(\\Omega \\right)} - \\log{\\left(\\omega_{0} \\right)}$"
     },
     "metadata": {}
    },
    {
     "output_type": "display_data",
     "data": {
      "text/plain": "               log(k)   log(m)\nlog(omega_0) = ────── - ──────\n                 2        2   ",
      "image/png": "[encoded data removed]",
      "text/latex": "$\\displaystyle \\log{\\left(\\omega_{0} \\right)} = \\frac{\\log{\\left(k \\right)}}{2} - \\frac{\\log{\\left(m \\right)}}{2}$"
     },
     "metadata": {}
    },
    {
     "output_type": "display_data",
     "data": {
      "text/plain": "log(m) = log(b) + 2⋅log(m_n) + log(rho) + log(π)",
      "image/png": "[encoded data removed]",
      "text/latex": "$\\displaystyle \\log{\\left(m \\right)} = \\log{\\left(b \\right)} + 2 \\log{\\left(m_{n} \\right)} + \\log{\\left(\\rho \\right)} + \\log{\\left(\\pi \\right)}$"
     },
     "metadata": {}
    }
   ],
   "source": [
    "log_simp = lambda x: expand_log(log(x), force = True)\n",
    "\n",
    "PI_log = list(map(lambda x: apply2Eq(log_simp,x), PI_rel))\n",
    "\n",
    "for q in PI_log:\n",
    "    display(q)\n"
   ]
  },
  {
   "cell_type": "code",
   "execution_count": 5,
   "metadata": {},
   "outputs": [],
   "source": [
    "def coeff_matrix(equations, *symbols):\n",
    "    # adapted from the source code of sympy.linear_eq_to_matrix(equations, *symbols)\n",
    "    A , b = [], []\n",
    "    for i, f in enumerate(equations):\n",
    "        coeff_list = linear_coeffs(f, *symbols)\n",
    "        b.append(-coeff_list.pop())\n",
    "        A.append(coeff_list)\n",
    "\n",
    "    A, b = map(Matrix, (A, b))\n",
    "\n",
    "    return A, b"
   ]
  },
  {
   "cell_type": "code",
   "execution_count": 6,
   "metadata": {},
   "outputs": [],
   "source": [
    "def get_scaling_factors(PI_eq, pars):\n",
    "    GM = IndexedBase('Gamma')\n",
    "\n",
    "    for pp in pars:\n",
    "        for i, e in enumerate(PI_eq):\n",
    "            PI_eq[i] = PI_eq[i].subs(log(pp), GM[e])\n",
    "\n",
    "    # one-sided version:\n",
    "    PI_os  = list(map(lambda x: x.lhs - x.rhs, PI_eq))\n",
    "    GM_par = list(map(lambda x: GM[x], pars))\n",
    "\n",
    "    A, b = coeff_matrix(PI_os, *GM_par[:-1])\n",
    "    x = A.pinv() @ b\n",
    "\n",
    "#    res = A @ x - b\n",
    "#    res = list(map(abs, res))\n",
    "#    if sum(res) != 0:\n",
    "#        print('ERROR!')\n",
    "    \n",
    "    x = x.subs(GM[P], log(P))\n",
    "\n",
    "    display(A, b)\n",
    "    for i, y in enumerate(x):\n",
    "        display(Eq(GM[pars[i]], GM[P]**(y/log(P))))\n",
    "\n",
    "    return x, A, b"
   ]
  },
  {
   "source": [
    "### Complete similitude"
   ],
   "cell_type": "markdown",
   "metadata": {}
  },
  {
   "cell_type": "code",
   "execution_count": 17,
   "metadata": {},
   "outputs": [
    {
     "output_type": "display_data",
     "data": {
      "text/plain": "log(X) = -log(m_n) + log(x)",
      "image/png": "[encoded data removed]",
      "text/latex": "$\\displaystyle \\log{\\left(X \\right)} = - \\log{\\left(m_{n} \\right)} + \\log{\\left(x \\right)}$"
     },
     "metadata": {}
    },
    {
     "output_type": "display_data",
     "data": {
      "text/plain": "log(B) = log(b) - log(m_n)",
      "image/png": "[encoded data removed]",
      "text/latex": "$\\displaystyle \\log{\\left(B \\right)} = \\log{\\left(b \\right)} - \\log{\\left(m_{n} \\right)}$"
     },
     "metadata": {}
    },
    {
     "output_type": "display_data",
     "data": {
      "text/plain": "log(tau) = log(omega_0) + log(t)",
      "image/png": "[encoded data removed]",
      "text/latex": "$\\displaystyle \\log{\\left(\\tau \\right)} = \\log{\\left(\\omega_{0} \\right)} + \\log{\\left(t \\right)}$"
     },
     "metadata": {}
    },
    {
     "output_type": "display_data",
     "data": {
      "text/plain": "log(F) = log(f) - log(k) - log(m_n)",
      "image/png": "[encoded data removed]",
      "text/latex": "$\\displaystyle \\log{\\left(F \\right)} = \\log{\\left(f \\right)} - \\log{\\left(k \\right)} - \\log{\\left(m_{n} \\right)}$"
     },
     "metadata": {}
    },
    {
     "output_type": "display_data",
     "data": {
      "text/plain": "                     log(k)   log(m)\nlog(zeta) = log(c) - ────── - ──────\n                       2        2   ",
      "image/png": "[encoded data removed]",
      "text/latex": "$\\displaystyle \\log{\\left(\\zeta \\right)} = \\log{\\left(c \\right)} - \\frac{\\log{\\left(k \\right)}}{2} - \\frac{\\log{\\left(m \\right)}}{2}$"
     },
     "metadata": {}
    },
    {
     "output_type": "display_data",
     "data": {
      "text/plain": "log(Sigma) = -log(P) + log(b) + 2⋅log(m_n) + log(omega_0)",
      "image/png": "[encoded data removed]",
      "text/latex": "$\\displaystyle \\log{\\left(\\Sigma \\right)} = - \\log{\\left(P \\right)} + \\log{\\left(b \\right)} + 2 \\log{\\left(m_{n} \\right)} + \\log{\\left(\\omega_{0} \\right)}$"
     },
     "metadata": {}
    },
    {
     "output_type": "display_data",
     "data": {
      "text/plain": "log(mu) = -log(f) + 2⋅log(m_n)",
      "image/png": "[encoded data removed]",
      "text/latex": "$\\displaystyle \\log{\\left(\\mu \\right)} = - \\log{\\left(f \\right)} + 2 \\log{\\left(m_{n} \\right)}$"
     },
     "metadata": {}
    },
    {
     "output_type": "display_data",
     "data": {
      "text/plain": "log(omega) = log(Omega) - log(omega_0)",
      "image/png": "[encoded data removed]",
      "text/latex": "$\\displaystyle \\log{\\left(\\omega \\right)} = \\log{\\left(\\Omega \\right)} - \\log{\\left(\\omega_{0} \\right)}$"
     },
     "metadata": {}
    },
    {
     "output_type": "display_data",
     "data": {
      "text/plain": "               log(k)   log(m)\nlog(omega_0) = ────── - ──────\n                 2        2   ",
      "image/png": "[encoded data removed]",
      "text/latex": "$\\displaystyle \\log{\\left(\\omega_{0} \\right)} = \\frac{\\log{\\left(k \\right)}}{2} - \\frac{\\log{\\left(m \\right)}}{2}$"
     },
     "metadata": {}
    },
    {
     "output_type": "display_data",
     "data": {
      "text/plain": "log(m) = log(b) + 2⋅log(m_n)",
      "image/png": "[encoded data removed]",
      "text/latex": "$\\displaystyle \\log{\\left(m \\right)} = \\log{\\left(b \\right)} + 2 \\log{\\left(m_{n} \\right)}$"
     },
     "metadata": {}
    }
   ],
   "source": [
    "PI_all = list(map(lambda x: x.subs([\n",
    "                                    (sigma  , 1),   # keep structural safety\n",
    "                                    (rho    , 1),   # same material\n",
    "                                   # (t      , 1),   # same time scale\n",
    "                                   # (tau    , 1),   # same time scale\n",
    "                                    (log(pi), 0),   # get rid of this\n",
    "                                    (log(2) , 0)]), # get rid of this\n",
    "                                                    PI_log))\n",
    "# same time scale:\n",
    "# (tau    , 1), \n",
    "\n",
    "for q in PI_all:\n",
    "    display(q)\n"
   ]
  },
  {
   "cell_type": "code",
   "execution_count": 18,
   "metadata": {},
   "outputs": [
    {
     "output_type": "display_data",
     "data": {
      "text/plain": "Gamma[X] + Gamma[m_n] - Gamma[x] = 0",
      "image/png": "[encoded data removed]",
      "text/latex": "$\\displaystyle {\\Gamma}_{X} + {\\Gamma}_{m_{n}} - {\\Gamma}_{x} = 0$"
     },
     "metadata": {}
    },
    {
     "output_type": "display_data",
     "data": {
      "text/plain": "Gamma[B] - Gamma[b] + Gamma[m_n] = 0",
      "image/png": "[encoded data removed]",
      "text/latex": "$\\displaystyle {\\Gamma}_{B} - {\\Gamma}_{b} + {\\Gamma}_{m_{n}} = 0$"
     },
     "metadata": {}
    },
    {
     "output_type": "display_data",
     "data": {
      "text/plain": "-Gamma[omega_0] - Gamma[t] + Gamma[tau] = 0",
      "image/png": "[encoded data removed]",
      "text/latex": "$\\displaystyle - {\\Gamma}_{\\omega_{0}} - {\\Gamma}_{t} + {\\Gamma}_{\\tau} = 0$"
     },
     "metadata": {}
    },
    {
     "output_type": "display_data",
     "data": {
      "text/plain": "Gamma[F] - Gamma[f] + Gamma[k] + Gamma[m_n] = 0",
      "image/png": "[encoded data removed]",
      "text/latex": "$\\displaystyle {\\Gamma}_{F} - {\\Gamma}_{f} + {\\Gamma}_{k} + {\\Gamma}_{m_{n}} = 0$"
     },
     "metadata": {}
    },
    {
     "output_type": "display_data",
     "data": {
      "text/plain": "            Gamma[k]   Gamma[m]                  \n-Gamma[c] + ──────── + ──────── + Gamma[zeta] = 0\n               2          2                      ",
      "image/png": "[encoded data removed]",
      "text/latex": "$\\displaystyle - {\\Gamma}_{c} + \\frac{{\\Gamma}_{k}}{2} + \\frac{{\\Gamma}_{m}}{2} + {\\Gamma}_{\\zeta} = 0$"
     },
     "metadata": {}
    },
    {
     "output_type": "display_data",
     "data": {
      "text/plain": "Gamma[P] + Gamma[Sigma] - Gamma[b] - 2⋅Gamma[m_n] - Gamma[omega_0] = 0",
      "image/png": "[encoded data removed]",
      "text/latex": "$\\displaystyle {\\Gamma}_{P} + {\\Gamma}_{\\Sigma} - {\\Gamma}_{b} - 2 {\\Gamma}_{m_{n}} - {\\Gamma}_{\\omega_{0}} = 0$"
     },
     "metadata": {}
    },
    {
     "output_type": "display_data",
     "data": {
      "text/plain": "Gamma[f] - 2⋅Gamma[m_n] + Gamma[mu] = 0",
      "image/png": "[encoded data removed]",
      "text/latex": "$\\displaystyle {\\Gamma}_{f} - 2 {\\Gamma}_{m_{n}} + {\\Gamma}_{\\mu} = 0$"
     },
     "metadata": {}
    },
    {
     "output_type": "display_data",
     "data": {
      "text/plain": "-Gamma[Omega] + Gamma[omega] + Gamma[omega_0] = 0",
      "image/png": "[encoded data removed]",
      "text/latex": "$\\displaystyle - {\\Gamma}_{\\Omega} + {\\Gamma}_{\\omega} + {\\Gamma}_{\\omega_{0}} = 0$"
     },
     "metadata": {}
    },
    {
     "output_type": "display_data",
     "data": {
      "text/plain": "  Gamma[k]   Gamma[m]                     \n- ──────── + ──────── + Gamma[omega_0] = 0\n     2          2                         ",
      "image/png": "[encoded data removed]",
      "text/latex": "$\\displaystyle - \\frac{{\\Gamma}_{k}}{2} + \\frac{{\\Gamma}_{m}}{2} + {\\Gamma}_{\\omega_{0}} = 0$"
     },
     "metadata": {}
    },
    {
     "output_type": "display_data",
     "data": {
      "text/plain": "-Gamma[b] + Gamma[m] - 2⋅Gamma[m_n] = 0",
      "image/png": "[encoded data removed]",
      "text/latex": "$\\displaystyle - {\\Gamma}_{b} + {\\Gamma}_{m} - 2 {\\Gamma}_{m_{n}} = 0$"
     },
     "metadata": {}
    },
    {
     "output_type": "display_data",
     "data": {
      "text/plain": "⎡0   0  0   -1  1   0   0   0    0     0   0  0 ⎤\n⎢                                               ⎥\n⎢0   0  0   0   1   -1  0   0    0     0   0  0 ⎥\n⎢                                               ⎥\n⎢0   0  0   0   0   0   -1  0    0     0   0  -1⎥\n⎢                                               ⎥\n⎢0   0  -1  0   1   0   0   0    1     0   0  0 ⎥\n⎢                                               ⎥\n⎢0   0  0   0   0   0   0   -1  1/2   1/2  0  0 ⎥\n⎢                                               ⎥\n⎢0   0  0   0   -2  -1  0   0    0     0   0  -1⎥\n⎢                                               ⎥\n⎢0   0  1   0   -2  0   0   0    0     0   0  0 ⎥\n⎢                                               ⎥\n⎢-1  0  0   0   0   0   0   0    0     0   0  1 ⎥\n⎢                                               ⎥\n⎢0   0  0   0   0   0   0   0   -1/2  1/2  0  1 ⎥\n⎢                                               ⎥\n⎣0   0  0   0   -2  -1  0   0    0     1   0  0 ⎦",
      "text/latex": "$\\displaystyle \\left[\\begin{array}{cccccccccccc}0 & 0 & 0 & -1 & 1 & 0 & 0 & 0 & 0 & 0 & 0 & 0\\\\0 & 0 & 0 & 0 & 1 & -1 & 0 & 0 & 0 & 0 & 0 & 0\\\\0 & 0 & 0 & 0 & 0 & 0 & -1 & 0 & 0 & 0 & 0 & -1\\\\0 & 0 & -1 & 0 & 1 & 0 & 0 & 0 & 1 & 0 & 0 & 0\\\\0 & 0 & 0 & 0 & 0 & 0 & 0 & -1 & \\frac{1}{2} & \\frac{1}{2} & 0 & 0\\\\0 & 0 & 0 & 0 & -2 & -1 & 0 & 0 & 0 & 0 & 0 & -1\\\\0 & 0 & 1 & 0 & -2 & 0 & 0 & 0 & 0 & 0 & 0 & 0\\\\-1 & 0 & 0 & 0 & 0 & 0 & 0 & 0 & 0 & 0 & 0 & 1\\\\0 & 0 & 0 & 0 & 0 & 0 & 0 & 0 & - \\frac{1}{2} & \\frac{1}{2} & 0 & 1\\\\0 & 0 & 0 & 0 & -2 & -1 & 0 & 0 & 0 & 1 & 0 & 0\\end{array}\\right]$"
     },
     "metadata": {}
    },
    {
     "output_type": "display_data",
     "data": {
      "text/plain": "⎡       -Gamma[X]        ⎤\n⎢                        ⎥\n⎢       -Gamma[B]        ⎥\n⎢                        ⎥\n⎢      -Gamma[tau]       ⎥\n⎢                        ⎥\n⎢       -Gamma[F]        ⎥\n⎢                        ⎥\n⎢      -Gamma[zeta]      ⎥\n⎢                        ⎥\n⎢-Gamma[P] - Gamma[Sigma]⎥\n⎢                        ⎥\n⎢       -Gamma[mu]       ⎥\n⎢                        ⎥\n⎢     -Gamma[omega]      ⎥\n⎢                        ⎥\n⎢           0            ⎥\n⎢                        ⎥\n⎣           0            ⎦",
      "text/latex": "$\\displaystyle \\left[\\begin{matrix}- {\\Gamma}_{X}\\\\- {\\Gamma}_{B}\\\\- {\\Gamma}_{\\tau}\\\\- {\\Gamma}_{F}\\\\- {\\Gamma}_{\\zeta}\\\\- {\\Gamma}_{P} - {\\Gamma}_{\\Sigma}\\\\- {\\Gamma}_{\\mu}\\\\- {\\Gamma}_{\\omega}\\\\0\\\\0\\end{matrix}\\right]$"
     },
     "metadata": {}
    }
   ],
   "source": [
    "# xx,aa,bb = get_scaling_factors(PI_all, par_dd)\n",
    "\n",
    "Gamma = IndexedBase('Gamma')\n",
    "gamma = IndexedBase('gamma')\n",
    "\n",
    "PI_gm = PI_all\n",
    "\n",
    "for elem in par:\n",
    "    for i, p in enumerate(PI_gm):\n",
    "        PI_gm[i] = PI_gm[i].subs(log(elem), Gamma[elem])\n",
    "\n",
    "PI_gm  = list(map(lambda x: x.lhs - x.rhs, PI_gm))\n",
    "gm_par = list(map(lambda x: Gamma[x], par_dd))\n",
    "\n",
    "for q in PI_gm:\n",
    "    display(Eq(q, 0))\n",
    "\n",
    "mat_A, vec_b = coeff_matrix(PI_gm, *gm_par[:-1]) \n",
    "\n",
    "display(mat_A, vec_b)"
   ]
  },
  {
   "cell_type": "code",
   "execution_count": 20,
   "metadata": {},
   "outputs": [
    {
     "output_type": "display_data",
     "data": {
      "text/plain": "⎡0⎤\n⎢ ⎥\n⎢0⎥\n⎢ ⎥\n⎢0⎥\n⎢ ⎥\n⎢0⎥\n⎢ ⎥\n⎢0⎥\n⎢ ⎥\n⎢0⎥\n⎢ ⎥\n⎢0⎥\n⎢ ⎥\n⎢0⎥\n⎢ ⎥\n⎢0⎥\n⎢ ⎥\n⎣0⎦",
      "text/latex": "$\\displaystyle \\left[\\begin{matrix}0\\\\0\\\\0\\\\0\\\\0\\\\0\\\\0\\\\0\\\\0\\\\0\\end{matrix}\\right]$"
     },
     "metadata": {}
    },
    {
     "output_type": "display_data",
     "data": {
      "text/plain": "                    1      \ngamma[Omega] = ────────────\n                 __________\n               ╲╱ gamma[P] ",
      "image/png": "[encoded data removed]",
      "text/latex": "$\\displaystyle {\\gamma}_{\\Omega} = \\frac{1}{\\sqrt{{\\gamma}_{P}}}$"
     },
     "metadata": {}
    },
    {
     "output_type": "display_data",
     "data": {
      "text/plain": "gamma[sigma] = 1",
      "image/png": "[encoded data removed]",
      "text/latex": "$\\displaystyle {\\gamma}_{\\sigma} = 1$"
     },
     "metadata": {}
    },
    {
     "output_type": "display_data",
     "data": {
      "text/plain": "gamma[f] = gamma[P]",
      "image/png": "[encoded data removed]",
      "text/latex": "$\\displaystyle {\\gamma}_{f} = {\\gamma}_{P}$"
     },
     "metadata": {}
    },
    {
     "output_type": "display_data",
     "data": {
      "text/plain": "             __________\ngamma[x] = ╲╱ gamma[P] ",
      "image/png": "[encoded data removed]",
      "text/latex": "$\\displaystyle {\\gamma}_{x} = \\sqrt{{\\gamma}_{P}}$"
     },
     "metadata": {}
    },
    {
     "output_type": "display_data",
     "data": {
      "text/plain": "               __________\ngamma[m_n] = ╲╱ gamma[P] ",
      "image/png": "[encoded data removed]",
      "text/latex": "$\\displaystyle {\\gamma}_{m_{n}} = \\sqrt{{\\gamma}_{P}}$"
     },
     "metadata": {}
    },
    {
     "output_type": "display_data",
     "data": {
      "text/plain": "             __________\ngamma[b] = ╲╱ gamma[P] ",
      "image/png": "[encoded data removed]",
      "text/latex": "$\\displaystyle {\\gamma}_{b} = \\sqrt{{\\gamma}_{P}}$"
     },
     "metadata": {}
    },
    {
     "output_type": "display_data",
     "data": {
      "text/plain": "             __________\ngamma[t] = ╲╱ gamma[P] ",
      "image/png": "[encoded data removed]",
      "text/latex": "$\\displaystyle {\\gamma}_{t} = \\sqrt{{\\gamma}_{P}}$"
     },
     "metadata": {}
    },
    {
     "output_type": "display_data",
     "data": {
      "text/plain": "gamma[c] = gamma[P]",
      "image/png": "[encoded data removed]",
      "text/latex": "$\\displaystyle {\\gamma}_{c} = {\\gamma}_{P}$"
     },
     "metadata": {}
    },
    {
     "output_type": "display_data",
     "data": {
      "text/plain": "             __________\ngamma[k] = ╲╱ gamma[P] ",
      "image/png": "[encoded data removed]",
      "text/latex": "$\\displaystyle {\\gamma}_{k} = \\sqrt{{\\gamma}_{P}}$"
     },
     "metadata": {}
    },
    {
     "output_type": "display_data",
     "data": {
      "text/plain": "                   3/2\ngamma[m] = gamma[P]   ",
      "image/png": "[encoded data removed]",
      "text/latex": "$\\displaystyle {\\gamma}_{m} = {\\gamma}_{P}^{\\frac{3}{2}}$"
     },
     "metadata": {}
    },
    {
     "output_type": "display_data",
     "data": {
      "text/plain": "gamma[rho] = 1",
      "image/png": "[encoded data removed]",
      "text/latex": "$\\displaystyle {\\gamma}_{\\rho} = 1$"
     },
     "metadata": {}
    },
    {
     "output_type": "display_data",
     "data": {
      "text/plain": "                      1      \ngamma[omega_0] = ────────────\n                   __________\n                 ╲╱ gamma[P] ",
      "image/png": "[encoded data removed]",
      "text/latex": "$\\displaystyle {\\gamma}_{\\omega_{0}} = \\frac{1}{\\sqrt{{\\gamma}_{P}}}$"
     },
     "metadata": {}
    }
   ],
   "source": [
    "for p in par_nd:\n",
    "    vec_b = vec_b.subs(Gamma[p], 0)\n",
    "\n",
    "x_all = mat_A.pinv() @ vec_b\n",
    "\n",
    "display(mat_A @ x_all - vec_b)\n",
    "x_all = x_all.subs(Gamma[P], log(P))\n",
    "\n",
    "for i, q in enumerate(x_all):\n",
    "   # display(Eq(gm_par[i], q))\n",
    "    display(Eq(gamma[par_dd[i]], gamma[P]**(q/log(P)))) #log_simp(exp(log(q)))))"
   ]
  },
  {
   "source": [
    "### Partial similitude (distorted)"
   ],
   "cell_type": "markdown",
   "metadata": {}
  },
  {
   "cell_type": "code",
   "execution_count": 10,
   "metadata": {},
   "outputs": [
    {
     "output_type": "display_data",
     "data": {
      "text/plain": "0 = -log(m_n) + log(x)",
      "image/png": "[encoded data removed]",
      "text/latex": "$\\displaystyle 0 = - \\log{\\left(m_{n} \\right)} + \\log{\\left(x \\right)}$"
     },
     "metadata": {}
    },
    {
     "output_type": "display_data",
     "data": {
      "text/plain": "log(B) = log(b) - log(m_n)",
      "image/png": "[encoded data removed]",
      "text/latex": "$\\displaystyle \\log{\\left(B \\right)} = \\log{\\left(b \\right)} - \\log{\\left(m_{n} \\right)}$"
     },
     "metadata": {}
    },
    {
     "output_type": "display_data",
     "data": {
      "text/plain": "0 = log(omega_0)",
      "image/png": "[encoded data removed]",
      "text/latex": "$\\displaystyle 0 = \\log{\\left(\\omega_{0} \\right)}$"
     },
     "metadata": {}
    },
    {
     "output_type": "display_data",
     "data": {
      "text/plain": "log(F) = log(f) - log(k) - log(m_n)",
      "image/png": "[encoded data removed]",
      "text/latex": "$\\displaystyle \\log{\\left(F \\right)} = \\log{\\left(f \\right)} - \\log{\\left(k \\right)} - \\log{\\left(m_{n} \\right)}$"
     },
     "metadata": {}
    },
    {
     "output_type": "display_data",
     "data": {
      "text/plain": "              log(k)   log(m)\nlog(zeta) = - ────── - ──────\n                2        2   ",
      "image/png": "[encoded data removed]",
      "text/latex": "$\\displaystyle \\log{\\left(\\zeta \\right)} = - \\frac{\\log{\\left(k \\right)}}{2} - \\frac{\\log{\\left(m \\right)}}{2}$"
     },
     "metadata": {}
    },
    {
     "output_type": "display_data",
     "data": {
      "text/plain": "log(Sigma) = -log(P) + log(b) + 2⋅log(m_n) + log(omega_0)",
      "image/png": "[encoded data removed]",
      "text/latex": "$\\displaystyle \\log{\\left(\\Sigma \\right)} = - \\log{\\left(P \\right)} + \\log{\\left(b \\right)} + 2 \\log{\\left(m_{n} \\right)} + \\log{\\left(\\omega_{0} \\right)}$"
     },
     "metadata": {}
    },
    {
     "output_type": "display_data",
     "data": {
      "text/plain": "log(mu) = -log(f) + 2⋅log(m_n)",
      "image/png": "[encoded data removed]",
      "text/latex": "$\\displaystyle \\log{\\left(\\mu \\right)} = - \\log{\\left(f \\right)} + 2 \\log{\\left(m_{n} \\right)}$"
     },
     "metadata": {}
    },
    {
     "output_type": "display_data",
     "data": {
      "text/plain": "0 = -log(omega_0)",
      "image/png": "[encoded data removed]",
      "text/latex": "$\\displaystyle 0 = - \\log{\\left(\\omega_{0} \\right)}$"
     },
     "metadata": {}
    },
    {
     "output_type": "display_data",
     "data": {
      "text/plain": "               log(k)   log(m)\nlog(omega_0) = ────── - ──────\n                 2        2   ",
      "image/png": "[encoded data removed]",
      "text/latex": "$\\displaystyle \\log{\\left(\\omega_{0} \\right)} = \\frac{\\log{\\left(k \\right)}}{2} - \\frac{\\log{\\left(m \\right)}}{2}$"
     },
     "metadata": {}
    },
    {
     "output_type": "display_data",
     "data": {
      "text/plain": "log(m) = log(b) + 2⋅log(m_n)",
      "image/png": "[encoded data removed]",
      "text/latex": "$\\displaystyle \\log{\\left(m \\right)} = \\log{\\left(b \\right)} + 2 \\log{\\left(m_{n} \\right)}$"
     },
     "metadata": {}
    }
   ],
   "source": [
    "PI_dis = list(map(lambda x: x.subs([\n",
    "                                    (sigma  , 1),   # keep structural safety\n",
    "                                    (rho    , 1),   # same material\n",
    "                                    (X      , 1),   # keep non-dimensional displacement (get rid of X and x)\n",
    "                                    (t      , 1),   # same time scale\n",
    "                                    (tau    , 1),   # same time scale\n",
    "                                    (Omega  , 1),   # same frequency range\n",
    "                                    (omega  , 1),   # same frequency range\n",
    "                                    (c      , 1),   # keep damping level\n",
    "                                    (log(pi), 0),   # get rid of this\n",
    "                                    (log(2) , 0)]), # get rid of this\n",
    "                                                    PI_log))\n",
    "for q in PI_dis:\n",
    "    display(q)"
   ]
  },
  {
   "cell_type": "code",
   "execution_count": 11,
   "metadata": {},
   "outputs": [],
   "source": [
    "# xx,aa,bb = get_scaling_factors(PI_dis, par)"
   ]
  },
  {
   "cell_type": "code",
   "execution_count": 12,
   "metadata": {},
   "outputs": [
    {
     "output_type": "display_data",
     "data": {
      "text/plain": "⎡0  0  0  0  0  0  0  0  0  0  0   -1  1   0   0  0   0     0   0  0 ⎤\n⎢                                                                    ⎥\n⎢0  1  0  0  0  0  0  0  0  0  0   0   1   -1  0  0   0     0   0  0 ⎥\n⎢                                                                    ⎥\n⎢0  0  0  0  0  0  0  0  0  0  0   0   0   0   0  0   0     0   0  -1⎥\n⎢                                                                    ⎥\n⎢0  0  0  0  0  1  0  0  0  0  -1  0   1   0   0  0   1     0   0  0 ⎥\n⎢                                                                    ⎥\n⎢0  0  0  1  0  0  0  0  0  0  0   0   0   0   0  0  1/2   1/2  0  0 ⎥\n⎢                                                                    ⎥\n⎢0  0  0  0  1  0  0  0  0  0  0   0   -2  -1  0  0   0     0   0  -1⎥\n⎢                                                                    ⎥\n⎢0  0  0  0  0  0  1  0  0  0  1   0   -2  0   0  0   0     0   0  0 ⎥\n⎢                                                                    ⎥\n⎢0  0  0  0  0  0  0  0  0  0  0   0   0   0   0  0   0     0   0  1 ⎥\n⎢                                                                    ⎥\n⎢0  0  0  0  0  0  0  0  0  0  0   0   0   0   0  0  -1/2  1/2  0  1 ⎥\n⎢                                                                    ⎥\n⎣0  0  0  0  0  0  0  0  0  0  0   0   -2  -1  0  0   0     1   0  0 ⎦",
      "text/latex": "$\\displaystyle \\left[\\begin{array}{cccccccccccccccccccc}0 & 0 & 0 & 0 & 0 & 0 & 0 & 0 & 0 & 0 & 0 & -1 & 1 & 0 & 0 & 0 & 0 & 0 & 0 & 0\\\\0 & 1 & 0 & 0 & 0 & 0 & 0 & 0 & 0 & 0 & 0 & 0 & 1 & -1 & 0 & 0 & 0 & 0 & 0 & 0\\\\0 & 0 & 0 & 0 & 0 & 0 & 0 & 0 & 0 & 0 & 0 & 0 & 0 & 0 & 0 & 0 & 0 & 0 & 0 & -1\\\\0 & 0 & 0 & 0 & 0 & 1 & 0 & 0 & 0 & 0 & -1 & 0 & 1 & 0 & 0 & 0 & 1 & 0 & 0 & 0\\\\0 & 0 & 0 & 1 & 0 & 0 & 0 & 0 & 0 & 0 & 0 & 0 & 0 & 0 & 0 & 0 & \\frac{1}{2} & \\frac{1}{2} & 0 & 0\\\\0 & 0 & 0 & 0 & 1 & 0 & 0 & 0 & 0 & 0 & 0 & 0 & -2 & -1 & 0 & 0 & 0 & 0 & 0 & -1\\\\0 & 0 & 0 & 0 & 0 & 0 & 1 & 0 & 0 & 0 & 1 & 0 & -2 & 0 & 0 & 0 & 0 & 0 & 0 & 0\\\\0 & 0 & 0 & 0 & 0 & 0 & 0 & 0 & 0 & 0 & 0 & 0 & 0 & 0 & 0 & 0 & 0 & 0 & 0 & 1\\\\0 & 0 & 0 & 0 & 0 & 0 & 0 & 0 & 0 & 0 & 0 & 0 & 0 & 0 & 0 & 0 & - \\frac{1}{2} & \\frac{1}{2} & 0 & 1\\\\0 & 0 & 0 & 0 & 0 & 0 & 0 & 0 & 0 & 0 & 0 & 0 & -2 & -1 & 0 & 0 & 0 & 1 & 0 & 0\\end{array}\\right]$"
     },
     "metadata": {}
    },
    {
     "output_type": "display_data",
     "data": {
      "text/plain": "⎡    0    ⎤\n⎢         ⎥\n⎢    0    ⎥\n⎢         ⎥\n⎢    0    ⎥\n⎢         ⎥\n⎢    0    ⎥\n⎢         ⎥\n⎢    0    ⎥\n⎢         ⎥\n⎢-Gamma[P]⎥\n⎢         ⎥\n⎢    0    ⎥\n⎢         ⎥\n⎢    0    ⎥\n⎢         ⎥\n⎢    0    ⎥\n⎢         ⎥\n⎣    0    ⎦",
      "text/latex": "$\\displaystyle \\left[\\begin{matrix}0\\\\0\\\\0\\\\0\\\\0\\\\- {\\Gamma}_{P}\\\\0\\\\0\\\\0\\\\0\\end{matrix}\\right]$"
     },
     "metadata": {}
    }
   ],
   "source": [
    "PI_gm = PI_dis\n",
    "\n",
    "for elem in par:\n",
    "    for i, p in enumerate(PI_gm):\n",
    "        PI_gm[i] = PI_gm[i].subs(log(elem), Gamma[elem])\n",
    "\n",
    "PI_gm  = list(map(lambda x: x.lhs - x.rhs, PI_gm))\n",
    "gm_par = list(map(lambda x: Gamma[x], par))\n",
    "\n",
    "mat_A, vec_b = coeff_matrix(PI_gm, *gm_par[:-1]) \n",
    "\n",
    "display(mat_A, vec_b)"
   ]
  },
  {
   "cell_type": "code",
   "execution_count": 13,
   "metadata": {},
   "outputs": [
    {
     "output_type": "display_data",
     "data": {
      "text/plain": "0",
      "image/png": "[encoded data removed]",
      "text/latex": "$\\displaystyle 0$"
     },
     "metadata": {}
    },
    {
     "output_type": "display_data",
     "data": {
      "text/plain": "gamma[X] = 1",
      "image/png": "[encoded data removed]",
      "text/latex": "$\\displaystyle {\\gamma}_{X} = 1$"
     },
     "metadata": {}
    },
    {
     "output_type": "display_data",
     "data": {
      "text/plain": "                   6/265\ngamma[B] = gamma[P]     ",
      "image/png": "[encoded data removed]",
      "text/latex": "$\\displaystyle {\\gamma}_{B} = {\\gamma}_{P}^{\\frac{6}{265}}$"
     },
     "metadata": {}
    },
    {
     "output_type": "display_data",
     "data": {
      "text/plain": "gamma[tau] = 1",
      "image/png": "[encoded data removed]",
      "text/latex": "$\\displaystyle {\\gamma}_{\\tau} = 1$"
     },
     "metadata": {}
    },
    {
     "output_type": "display_data",
     "data": {
      "text/plain": "                   1     \ngamma[zeta] = ───────────\n                       51\n                      ───\n                      265\n              gamma[P]   ",
      "image/png": "[encoded data removed]",
      "text/latex": "$\\displaystyle {\\gamma}_{\\zeta} = \\frac{1}{{\\gamma}_{P}^{\\frac{51}{265}}}$"
     },
     "metadata": {}
    },
    {
     "output_type": "display_data",
     "data": {
      "text/plain": "                    1     \ngamma[Sigma] = ───────────\n                       214\n                       ───\n                       265\n               gamma[P]   ",
      "image/png": "[encoded data removed]",
      "text/latex": "$\\displaystyle {\\gamma}_{\\Sigma} = \\frac{1}{{\\gamma}_{P}^{\\frac{214}{265}}}$"
     },
     "metadata": {}
    },
    {
     "output_type": "display_data",
     "data": {
      "text/plain": "                1     \ngamma[F] = ───────────\n                    34\n                   ───\n                   265\n           gamma[P]   ",
      "image/png": "[encoded data removed]",
      "text/latex": "$\\displaystyle {\\gamma}_{F} = \\frac{1}{{\\gamma}_{P}^{\\frac{34}{265}}}$"
     },
     "metadata": {}
    },
    {
     "output_type": "display_data",
     "data": {
      "text/plain": "                  1      \ngamma[mu] = ─────────────\n                    2/265\n            gamma[P]     ",
      "image/png": "[encoded data removed]",
      "text/latex": "$\\displaystyle {\\gamma}_{\\mu} = \\frac{1}{{\\gamma}_{P}^{\\frac{2}{265}}}$"
     },
     "metadata": {}
    },
    {
     "output_type": "display_data",
     "data": {
      "text/plain": "gamma[omega] = 1",
      "image/png": "[encoded data removed]",
      "text/latex": "$\\displaystyle {\\gamma}_{\\omega} = 1$"
     },
     "metadata": {}
    },
    {
     "output_type": "display_data",
     "data": {
      "text/plain": "gamma[Omega] = 1",
      "image/png": "[encoded data removed]",
      "text/latex": "$\\displaystyle {\\gamma}_{\\Omega} = 1$"
     },
     "metadata": {}
    },
    {
     "output_type": "display_data",
     "data": {
      "text/plain": "gamma[sigma] = 1",
      "image/png": "[encoded data removed]",
      "text/latex": "$\\displaystyle {\\gamma}_{\\sigma} = 1$"
     },
     "metadata": {}
    },
    {
     "output_type": "display_data",
     "data": {
      "text/plain": "                    32\n                   ───\n                   265\ngamma[f] = gamma[P]   ",
      "image/png": "[encoded data removed]",
      "text/latex": "$\\displaystyle {\\gamma}_{f} = {\\gamma}_{P}^{\\frac{32}{265}}$"
     },
     "metadata": {}
    },
    {
     "output_type": "display_data",
     "data": {
      "text/plain": "                   3/53\ngamma[x] = gamma[P]    ",
      "image/png": "[encoded data removed]",
      "text/latex": "$\\displaystyle {\\gamma}_{x} = {\\gamma}_{P}^{\\frac{3}{53}}$"
     },
     "metadata": {}
    },
    {
     "output_type": "display_data",
     "data": {
      "text/plain": "                     3/53\ngamma[m_n] = gamma[P]    ",
      "image/png": "[encoded data removed]",
      "text/latex": "$\\displaystyle {\\gamma}_{m_{n}} = {\\gamma}_{P}^{\\frac{3}{53}}$"
     },
     "metadata": {}
    },
    {
     "output_type": "display_data",
     "data": {
      "text/plain": "                    21\n                   ───\n                   265\ngamma[b] = gamma[P]   ",
      "image/png": "[encoded data removed]",
      "text/latex": "$\\displaystyle {\\gamma}_{b} = {\\gamma}_{P}^{\\frac{21}{265}}$"
     },
     "metadata": {}
    },
    {
     "output_type": "display_data",
     "data": {
      "text/plain": "gamma[t] = 1",
      "image/png": "[encoded data removed]",
      "text/latex": "$\\displaystyle {\\gamma}_{t} = 1$"
     },
     "metadata": {}
    },
    {
     "output_type": "display_data",
     "data": {
      "text/plain": "gamma[c] = 1",
      "image/png": "[encoded data removed]",
      "text/latex": "$\\displaystyle {\\gamma}_{c} = 1$"
     },
     "metadata": {}
    },
    {
     "output_type": "display_data",
     "data": {
      "text/plain": "                    51\n                   ───\n                   265\ngamma[k] = gamma[P]   ",
      "image/png": "[encoded data removed]",
      "text/latex": "$\\displaystyle {\\gamma}_{k} = {\\gamma}_{P}^{\\frac{51}{265}}$"
     },
     "metadata": {}
    },
    {
     "output_type": "display_data",
     "data": {
      "text/plain": "                    51\n                   ───\n                   265\ngamma[m] = gamma[P]   ",
      "image/png": "[encoded data removed]",
      "text/latex": "$\\displaystyle {\\gamma}_{m} = {\\gamma}_{P}^{\\frac{51}{265}}$"
     },
     "metadata": {}
    },
    {
     "output_type": "display_data",
     "data": {
      "text/plain": "gamma[rho] = 1",
      "image/png": "[encoded data removed]",
      "text/latex": "$\\displaystyle {\\gamma}_{\\rho} = 1$"
     },
     "metadata": {}
    },
    {
     "output_type": "display_data",
     "data": {
      "text/plain": "gamma[omega_0] = 1",
      "image/png": "[encoded data removed]",
      "text/latex": "$\\displaystyle {\\gamma}_{\\omega_{0}} = 1$"
     },
     "metadata": {}
    }
   ],
   "source": [
    "x_dis = mat_A.pinv() @ vec_b\n",
    "\n",
    "res = mat_A @ x_dis - vec_b\n",
    "res = map(abs, res)\n",
    "display(sum(res))\n",
    "\n",
    "x_dis = x_dis.subs(Gamma[P], log(P))\n",
    "\n",
    "for i, q in enumerate(x_dis):\n",
    "   # display(Eq(gm_par[i], q))\n",
    "    display(Eq(gamma[par[i]], gamma[P]**(q/log(P)))) #log_simp(exp(log(q)))))"
   ]
  },
  {
   "cell_type": "code",
   "execution_count": 14,
   "metadata": {},
   "outputs": [],
   "source": [
    "# printing.octave.octave_code(params)"
   ]
  },
  {
   "cell_type": "code",
   "execution_count": 15,
   "metadata": {},
   "outputs": [],
   "source": [
    "get_script = False\n",
    "\n",
    "if get_script:\n",
    "    !jupyter nbconvert --to script DA.ipynb"
   ]
  },
  {
   "cell_type": "code",
   "execution_count": 16,
   "metadata": {},
   "outputs": [],
   "source": [
    "# om_relS = om_rel\n",
    "# om_relR = om_rel\n",
    "# s_idx = symbols('(s)')\n",
    "# r_idx = symbols('(r)')\n",
    "\n",
    "# pars = [X, B, tau, zeta, Sigma, F, mu, omega, P, Omega, sigma, f, x, m_n, b, t, omega_0, c, k, m, rho, V]\n",
    "# PI_s = zeros(len(PI), 1)\n",
    "# PI_r = zeros(len(PI), 1)\n",
    "\n",
    "# for i in range(len(PI)):\n",
    "#     for q in pars:\n",
    "#         PI_s[i] = PI[i].subs(q, q[s_idx])\n",
    "#         PI_r[i] = PI[i].subs(q, q[r_idx])\n",
    "#         om_relS = om_relS.subs(q, q[s_idx])\n",
    "#         om_relR = om_relR.subs(q, q[r_idx])\n",
    "\n",
    "# display(PI_s, om_relS, om_relR)"
   ]
  }
 ],
 "metadata": {
  "kernelspec": {
   "display_name": "Python 3",
   "language": "python",
   "name": "python3"
  },
  "language_info": {
   "codemirror_mode": {
    "name": "ipython",
    "version": 3
   },
   "file_extension": ".py",
   "mimetype": "text/x-python",
   "name": "python",
   "nbconvert_exporter": "python",
   "pygments_lexer": "ipython3",
   "version": "3.7.6-final"
  }
 },
 "nbformat": 4,
 "nbformat_minor": 4
}